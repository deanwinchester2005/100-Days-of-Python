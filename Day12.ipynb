{
 "cells": [
  {
   "cell_type": "markdown",
   "id": "fb276bf2",
   "metadata": {},
   "source": [
    "# Python Pro Bootcamp - Day 12"
   ]
  },
  {
   "cell_type": "markdown",
   "id": "881dbb39",
   "metadata": {},
   "source": [
    "## Scopes"
   ]
  },
  {
   "cell_type": "markdown",
   "id": "0672a7da",
   "metadata": {},
   "source": [
    "## Local Scope"
   ]
  },
  {
   "cell_type": "code",
   "execution_count": 11,
   "id": "1b29414e",
   "metadata": {},
   "outputs": [
    {
     "name": "stdout",
     "output_type": "stream",
     "text": [
      "Player health inside function is 50\n",
      "Player health outside function is 100\n"
     ]
    }
   ],
   "source": [
    "# Within the function we have local scope\n",
    "player_health = 100\n",
    "def potion():\n",
    "    player_health = 50\n",
    "    print(f\"Player health inside function is {player_health}\")\n",
    "potion()\n",
    "print(f\"Player health outside function is {player_health}\")"
   ]
  },
  {
   "cell_type": "code",
   "execution_count": 3,
   "id": "94d4b5cb",
   "metadata": {},
   "outputs": [],
   "source": [
    "# ^^^Notice how player_health doesn't changes even if we tried to change it inside potion()\n",
    "# If we try to access a global variable inside a function then we don't get that variable, a new variable is created instead of changing global variable."
   ]
  },
  {
   "cell_type": "markdown",
   "id": "84138d9e",
   "metadata": {},
   "source": [
    "## Global Scope"
   ]
  },
  {
   "cell_type": "code",
   "execution_count": 4,
   "id": "6f6319bb",
   "metadata": {},
   "outputs": [
    {
     "name": "stdout",
     "output_type": "stream",
     "text": [
      "50\n",
      "50\n"
     ]
    }
   ],
   "source": [
    "player_health = 50\n",
    "def health():\n",
    "    print(player_health)\n",
    "health()\n",
    "print(player_health)"
   ]
  },
  {
   "cell_type": "code",
   "execution_count": 5,
   "id": "91d0b605",
   "metadata": {},
   "outputs": [],
   "source": [
    "# ^^^We can print global variables inside a function but we can't change it"
   ]
  },
  {
   "cell_type": "code",
   "execution_count": 6,
   "id": "a6f3de1c",
   "metadata": {},
   "outputs": [
    {
     "ename": "UnboundLocalError",
     "evalue": "local variable 'health' referenced before assignment",
     "output_type": "error",
     "traceback": [
      "\u001b[0;31m---------------------------------------------------------------------------\u001b[0m",
      "\u001b[0;31mUnboundLocalError\u001b[0m                         Traceback (most recent call last)",
      "Input \u001b[0;32mIn [6]\u001b[0m, in \u001b[0;36m<cell line: 4>\u001b[0;34m()\u001b[0m\n\u001b[1;32m      2\u001b[0m \u001b[38;5;28;01mdef\u001b[39;00m \u001b[38;5;21mincrease_health\u001b[39m():\n\u001b[1;32m      3\u001b[0m     health \u001b[38;5;241m+\u001b[39m\u001b[38;5;241m=\u001b[39m \u001b[38;5;241m500\u001b[39m\n\u001b[0;32m----> 4\u001b[0m \u001b[43mincrease_health\u001b[49m\u001b[43m(\u001b[49m\u001b[43m)\u001b[49m\n\u001b[1;32m      5\u001b[0m \u001b[38;5;28mprint\u001b[39m(health)\n",
      "Input \u001b[0;32mIn [6]\u001b[0m, in \u001b[0;36mincrease_health\u001b[0;34m()\u001b[0m\n\u001b[1;32m      2\u001b[0m \u001b[38;5;28;01mdef\u001b[39;00m \u001b[38;5;21mincrease_health\u001b[39m():\n\u001b[0;32m----> 3\u001b[0m     health \u001b[38;5;241m+\u001b[39m\u001b[38;5;241m=\u001b[39m \u001b[38;5;241m500\u001b[39m\n",
      "\u001b[0;31mUnboundLocalError\u001b[0m: local variable 'health' referenced before assignment"
     ]
    }
   ],
   "source": [
    "health = 500\n",
    "def increase_health():\n",
    "    health += 500\n",
    "increase_health()\n",
    "print(health)"
   ]
  },
  {
   "cell_type": "code",
   "execution_count": 7,
   "id": "1de427ea",
   "metadata": {},
   "outputs": [],
   "source": [
    "# ^^^Notice how we got an error instead of adding health to our player"
   ]
  },
  {
   "cell_type": "markdown",
   "id": "576f5402",
   "metadata": {},
   "source": [
    "## There is no such thing as block scope in python"
   ]
  },
  {
   "cell_type": "code",
   "execution_count": 9,
   "id": "c734eab3",
   "metadata": {},
   "outputs": [
    {
     "name": "stdout",
     "output_type": "stream",
     "text": [
      "You have 110 coins\n"
     ]
    }
   ],
   "source": [
    "coins = 100\n",
    "if 3 > 2:\n",
    "    coins += 10\n",
    "print(f\"You have {coins} coins\")"
   ]
  },
  {
   "cell_type": "code",
   "execution_count": 10,
   "id": "4e2c26b7",
   "metadata": {},
   "outputs": [],
   "source": [
    "# ^^^See coin amount changes inside if block"
   ]
  },
  {
   "cell_type": "code",
   "execution_count": 14,
   "id": "e04b3f69",
   "metadata": {},
   "outputs": [
    {
     "name": "stdout",
     "output_type": "stream",
     "text": [
      "Skeleton\n"
     ]
    }
   ],
   "source": [
    "enemies = [\"Skeleton\", \"Ghost\", \"Werewolf\"]\n",
    "player_level = 3\n",
    "if player_level < 5:\n",
    "    new_enemy = enemies[0]\n",
    "print(new_enemy)"
   ]
  },
  {
   "cell_type": "code",
   "execution_count": 20,
   "id": "d1800b56",
   "metadata": {},
   "outputs": [
    {
     "name": "stdout",
     "output_type": "stream",
     "text": [
      "4\n",
      "7\n"
     ]
    }
   ],
   "source": [
    "# Modifying global variables\n",
    "level = 3\n",
    "def increase_level():\n",
    "    return level + 1\n",
    "level = increase_level()\n",
    "print(level)\n",
    "# See how output changes when we use += instead of +, += adds the return value of function i.e. 4, to existing value of level\n",
    "level = 3\n",
    "level += increase_level()\n",
    "print(level)"
   ]
  },
  {
   "cell_type": "markdown",
   "id": "750206a6",
   "metadata": {},
   "source": [
    "### Use of global keyword"
   ]
  },
  {
   "cell_type": "code",
   "execution_count": 22,
   "id": "b3eb0ff5",
   "metadata": {},
   "outputs": [
    {
     "ename": "UnboundLocalError",
     "evalue": "local variable 'health' referenced before assignment",
     "output_type": "error",
     "traceback": [
      "\u001b[0;31m---------------------------------------------------------------------------\u001b[0m",
      "\u001b[0;31mUnboundLocalError\u001b[0m                         Traceback (most recent call last)",
      "Input \u001b[0;32mIn [22]\u001b[0m, in \u001b[0;36m<cell line: 6>\u001b[0;34m()\u001b[0m\n\u001b[1;32m      4\u001b[0m     health \u001b[38;5;241m+\u001b[39m\u001b[38;5;241m=\u001b[39m \u001b[38;5;241m50\u001b[39m\n\u001b[1;32m      5\u001b[0m     \u001b[38;5;28;01mreturn\u001b[39;00m health\n\u001b[0;32m----> 6\u001b[0m \u001b[38;5;28mprint\u001b[39m(\u001b[43mincrease_health\u001b[49m\u001b[43m(\u001b[49m\u001b[43m)\u001b[49m)\n",
      "Input \u001b[0;32mIn [22]\u001b[0m, in \u001b[0;36mincrease_health\u001b[0;34m()\u001b[0m\n\u001b[1;32m      3\u001b[0m \u001b[38;5;28;01mdef\u001b[39;00m \u001b[38;5;21mincrease_health\u001b[39m():\n\u001b[0;32m----> 4\u001b[0m     health \u001b[38;5;241m+\u001b[39m\u001b[38;5;241m=\u001b[39m \u001b[38;5;241m50\u001b[39m\n\u001b[1;32m      5\u001b[0m     \u001b[38;5;28;01mreturn\u001b[39;00m health\n",
      "\u001b[0;31mUnboundLocalError\u001b[0m: local variable 'health' referenced before assignment"
     ]
    }
   ],
   "source": [
    "# If we try to change a global variable inside a local scope then we get an error\n",
    "health = 50\n",
    "def increase_health():\n",
    "    health += 50\n",
    "    return health\n",
    "print(increase_health())"
   ]
  },
  {
   "cell_type": "code",
   "execution_count": 23,
   "id": "eb746c73",
   "metadata": {},
   "outputs": [
    {
     "name": "stdout",
     "output_type": "stream",
     "text": [
      "Health of player is 150\n"
     ]
    }
   ],
   "source": [
    "# But we can change it with the help of global keyword although it's not a good practice\n",
    "health = 50\n",
    "def increase_health():\n",
    "    global health\n",
    "    health += 100\n",
    "    print(f\"Health of player is {health}\")\n",
    "increase_health()"
   ]
  },
  {
   "cell_type": "code",
   "execution_count": 27,
   "id": "6d7b9e6f",
   "metadata": {},
   "outputs": [
    {
     "name": "stdout",
     "output_type": "stream",
     "text": [
      "Dean's website is published at https://inventwithcode.github.io/dean\n"
     ]
    }
   ],
   "source": [
    "# When we define constants which we will never change then its good to have their name in all uppercase\n",
    "PI = 3.1415926536\n",
    "MAX_HEALTH = 1000\n",
    "URL = \"https://inventwithcode.github.io/dean\"\n",
    "print(f\"Dean's website is published at {URL}\")"
   ]
  },
  {
   "cell_type": "markdown",
   "id": "5e9db57b",
   "metadata": {},
   "source": [
    "### Project - Guess the number"
   ]
  },
  {
   "cell_type": "code",
   "execution_count": 28,
   "id": "ac160a25",
   "metadata": {},
   "outputs": [],
   "source": [
    "# Head over to the projects folder and run the main.py inside \"Number Wizard\" folder"
   ]
  }
 ],
 "metadata": {
  "kernelspec": {
   "display_name": "Python 3 (ipykernel)",
   "language": "python",
   "name": "python3"
  },
  "language_info": {
   "codemirror_mode": {
    "name": "ipython",
    "version": 3
   },
   "file_extension": ".py",
   "mimetype": "text/x-python",
   "name": "python",
   "nbconvert_exporter": "python",
   "pygments_lexer": "ipython3",
   "version": "3.9.12"
  }
 },
 "nbformat": 4,
 "nbformat_minor": 5
}
