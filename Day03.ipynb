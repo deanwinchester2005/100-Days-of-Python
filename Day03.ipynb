{
 "cells": [
  {
   "cell_type": "markdown",
   "id": "f25e299c",
   "metadata": {},
   "source": [
    "# Python Pro Bootcamp - Day 03"
   ]
  },
  {
   "cell_type": "markdown",
   "id": "3538e6bb",
   "metadata": {},
   "source": [
    "## if-else Statements"
   ]
  },
  {
   "cell_type": "code",
   "execution_count": 3,
   "id": "9fd9da63",
   "metadata": {},
   "outputs": [
    {
     "name": "stdout",
     "output_type": "stream",
     "text": [
      "Welcome to the roller coaster!\n",
      "What is your height? (in cm)\n",
      "120\n",
      "You can ride the roller coaster!\n"
     ]
    }
   ],
   "source": [
    "print(\"Welcome to the roller coaster!\")\n",
    "\n",
    "# Getting height as input in whole number\n",
    "height = int(input(\"What is your height? (in cm)\\n\"))\n",
    "\n",
    "# Checking if height is greater than or equal to 120 cm\n",
    "if height >= 120:\n",
    "    print(\"You can ride the roller coaster!\")\n",
    "else:\n",
    "    print(\"Sorry you have to grow taller before you ride roller coasters!\")"
   ]
  },
  {
   "cell_type": "markdown",
   "id": "57f05eef",
   "metadata": {},
   "source": [
    "### Modulo Operator, \"%\" returns remainder after dividing first number by second, i.e. 7 % 2 will return 1"
   ]
  },
  {
   "cell_type": "code",
   "execution_count": 5,
   "id": "f9368ce2",
   "metadata": {},
   "outputs": [
    {
     "name": "stdout",
     "output_type": "stream",
     "text": [
      "1\n"
     ]
    }
   ],
   "source": [
    "print(7%2)"
   ]
  },
  {
   "cell_type": "code",
   "execution_count": 6,
   "id": "9fdd8374",
   "metadata": {},
   "outputs": [
    {
     "name": "stdout",
     "output_type": "stream",
     "text": [
      "Which number do you want to check? 10\n",
      "This is an even number.\n"
     ]
    }
   ],
   "source": [
    "# Challenge\n",
    "\n",
    "# 🚨 Don't change the code below 👇\n",
    "number = int(input(\"Which number do you want to check? \"))\n",
    "# 🚨 Don't change the code above 👆\n",
    "\n",
    "#Write your code below this line 👇\n",
    "\n",
    "remainder = number % 2\n",
    "\n",
    "if remainder == 0:\n",
    "    print(\"This is an even number.\")\n",
    "else:\n",
    "    print(\"This is an odd number.\")"
   ]
  },
  {
   "cell_type": "markdown",
   "id": "8ac68c15",
   "metadata": {},
   "source": [
    "### Nested if-else Statements"
   ]
  },
  {
   "cell_type": "code",
   "execution_count": 12,
   "id": "c1fefaa0",
   "metadata": {},
   "outputs": [
    {
     "name": "stdout",
     "output_type": "stream",
     "text": [
      "Welcome to the roller coaster!\n",
      "What is your height? (in cm)\n",
      "125\n",
      "You can ride the roller coaster!\n",
      "What is your age?\n",
      "16\n",
      "Please pay $7\n"
     ]
    }
   ],
   "source": [
    "# This code also checks the age and ask for payment accordingly\n",
    "print(\"Welcome to the roller coaster!\")\n",
    "\n",
    "height = int(input(\"What is your height? (in cm)\\n\"))\n",
    "\n",
    "if height >= 120:\n",
    "    print(\"You can ride the roller coaster!\")\n",
    "    age = int(input(\"What is your age?\\n\"))\n",
    "    \n",
    "    if age>18:\n",
    "        print(\"Please pay $12.\")\n",
    "    else:\n",
    "        print(\"Please pay $7\")\n",
    "    \n",
    "else:\n",
    "    print(\"Sorry you have to grow taller before you ride roller coasters!\")"
   ]
  },
  {
   "cell_type": "markdown",
   "id": "9ea5b3fb",
   "metadata": {},
   "source": [
    "### if-elif-else statements"
   ]
  },
  {
   "cell_type": "code",
   "execution_count": 22,
   "id": "cad0a0f2",
   "metadata": {},
   "outputs": [
    {
     "name": "stdout",
     "output_type": "stream",
     "text": [
      "Welcome to the roller coaster!\n",
      "What is your height? (in cm)\n",
      "125\n",
      "You can ride the roller coaster!\n",
      "What is your age?\n",
      "10\n",
      "Please pay $5.\n"
     ]
    }
   ],
   "source": [
    "print(\"Welcome to the roller coaster!\")\n",
    "\n",
    "height = int(input(\"What is your height? (in cm)\\n\"))\n",
    "\n",
    "if height >= 120:\n",
    "    print(\"You can ride the roller coaster!\")\n",
    "    age = int(input(\"What is your age?\\n\"))\n",
    "    \n",
    "    if age < 12:\n",
    "        print(\"Please pay $5.\")\n",
    "    elif age<=18:\n",
    "        print(\"Please pay $7.\")\n",
    "    else:\n",
    "        print(\"Please pay $12\")\n",
    "    \n",
    "else:\n",
    "    print(\"Sorry you have to grow taller before you ride roller coasters!\")"
   ]
  },
  {
   "cell_type": "code",
   "execution_count": 2,
   "id": "638baef0",
   "metadata": {},
   "outputs": [
    {
     "name": "stdout",
     "output_type": "stream",
     "text": [
      "enter your height in m: 1.6\n",
      "enter your weight in kg: 75\n",
      "Your BMI is 29, you are slightly overweight.\n"
     ]
    }
   ],
   "source": [
    "# Challenge BMI Calculator 2.0\n",
    "\n",
    "# 🚨 Don't change the code below 👇\n",
    "height = float(input(\"enter your height in m: \"))\n",
    "weight = float(input(\"enter your weight in kg: \"))\n",
    "# 🚨 Don't change the code above 👆\n",
    "\n",
    "#Write your code below this line 👇\n",
    "\n",
    "BMI = weight/(height**2)\n",
    "whole_BMI = round(BMI) \n",
    "rounded_BMI = whole_BMI\n",
    "if whole_BMI < 18.5:\n",
    "    print(f\"Your BMI is {whole_BMI}, you are underweight.\")\n",
    "elif rounded_BMI < 25:\n",
    "    print(f\"Your BMI is {whole_BMI}, you have a normal weight.\")\n",
    "elif rounded_BMI < 30:\n",
    "    print(f\"Your BMI is {whole_BMI}, you are slightly overweight.\")\n",
    "elif rounded_BMI < 35:\n",
    "    print(f\"Your BMI is {whole_BMI}, you are obese.\")\n",
    "else:\n",
    "    print(f\"Your BMI is {whole_BMI}, you are clinically obese.\")"
   ]
  },
  {
   "cell_type": "markdown",
   "id": "654e132e",
   "metadata": {},
   "source": [
    "### Challenge !"
   ]
  },
  {
   "cell_type": "code",
   "execution_count": 44,
   "id": "514641a7",
   "metadata": {},
   "outputs": [
    {
     "name": "stdout",
     "output_type": "stream",
     "text": [
      "Which year do you want to check? 2022\n",
      "Not leap year.\n"
     ]
    }
   ],
   "source": [
    "# 🚨 Don't change the code below 👇\n",
    "year = int(input(\"Which year do you want to check? \"))\n",
    "# 🚨 Don't change the code above 👆\n",
    "\n",
    "#Write your code below this line 👇\n",
    "\n",
    "if year % 4 == 0:\n",
    "    if year % 100 == 0:\n",
    "        if year % 400 == 0:\n",
    "            print(\"Leap year.\")\n",
    "        else:\n",
    "            print(\"Not leap year.\")\n",
    "    else:\n",
    "        print(\"Leap year.\")\n",
    "else:\n",
    "    print(\"Not leap year.\")\n"
   ]
  },
  {
   "cell_type": "markdown",
   "id": "7c1ce246",
   "metadata": {},
   "source": [
    "### Multiple if statements"
   ]
  },
  {
   "cell_type": "code",
   "execution_count": 60,
   "id": "591fac11",
   "metadata": {},
   "outputs": [
    {
     "name": "stdout",
     "output_type": "stream",
     "text": [
      "Welcome to the roller coaster!\n",
      "What is your height? (in cm)\n",
      "120\n",
      "What is your age?\n",
      "11\n",
      "Child tickets are $5.\n",
      "Do you want your photos enjoying the ride?\n",
      "Additional price is $3\n",
      "(y/n)\n",
      "y\n",
      "Your total bill is $8\n"
     ]
    }
   ],
   "source": [
    "print(\"Welcome to the roller coaster!\")\n",
    "\n",
    "height = int(input(\"What is your height? (in cm)\\n\"))\n",
    "\n",
    "if height >= 120:\n",
    "    age = int(input(\"What is your age?\\n\"))\n",
    "    bill = 0\n",
    "    if age < 12:\n",
    "        print(\"Child tickets are $5.\")\n",
    "        bill+=5\n",
    "    elif age < 18:\n",
    "        print(\"Youth tickets are $7.\")\n",
    "        bill+=7\n",
    "    else:\n",
    "        print(\"Adult tickets are $12.\")\n",
    "        bill+=12\n",
    "    \n",
    "    wants_photo = input(\"Do you want your photos enjoying the ride?\\nAdditional price is $3\\n(y/n)\\n\")\n",
    "    if want_photos == \"y\":\n",
    "        bill+=3\n",
    "    print(f\"Your total bill is ${bill}\")\n",
    "    \n",
    "else:\n",
    "    print(\"Sorry you have to grow taller before you ride roller coasters!\")"
   ]
  },
  {
   "cell_type": "code",
   "execution_count": 62,
   "id": "321ce955",
   "metadata": {},
   "outputs": [
    {
     "name": "stdout",
     "output_type": "stream",
     "text": [
      "Welcome to Python Pizza Deliveries!\n",
      "What size pizza do you want? S, M, or L\n",
      "M\n",
      "Do you want pepperoni? Y or N\n",
      "N\n",
      "Do you want extra cheese? Y or N\n",
      "Y\n",
      "Your final bill is: $21\n"
     ]
    }
   ],
   "source": [
    "# Challenge - Pizza Bill Calculator\n",
    "\n",
    "# 🚨 Don't change the code below 👇\n",
    "print(\"Welcome to Python Pizza Deliveries!\")\n",
    "size = input(\"What size pizza do you want? S, M, or L\\n\")\n",
    "add_pepperoni = input(\"Do you want pepperoni? Y or N\\n\")\n",
    "extra_cheese = input(\"Do you want extra cheese? Y or N\\n\")\n",
    "# 🚨 Don't change the code above 👆\n",
    "\n",
    "#Write your code below this line 👇\n",
    "bill = 0\n",
    "\n",
    "if size == \"S\":\n",
    "    bill+=15\n",
    "    if add_pepperoni == \"Y\":\n",
    "        bill+=2\n",
    "elif size == \"M\":\n",
    "    bill+=20\n",
    "    if add_pepperoni == \"Y\":\n",
    "        bill+=3\n",
    "elif size == \"L\":\n",
    "    bill+=25\n",
    "    if add_pepperoni == \"Y\":\n",
    "        bill+=3\n",
    "\n",
    "if extra_cheese == \"Y\":\n",
    "    bill += 1\n",
    "print(f\"Your final bill is: ${bill}\")"
   ]
  },
  {
   "cell_type": "code",
   "execution_count": 73,
   "id": "2b0d6ae0",
   "metadata": {},
   "outputs": [
    {
     "name": "stdout",
     "output_type": "stream",
     "text": [
      "Welcome to the roller coaster!\n",
      "What is your height? (in cm)\n",
      "125\n",
      "What is your age?\n",
      "11\n",
      "Child tickets are $5.\n",
      "Do you want your photos enjoying the ride?\n",
      "Additional price is $3\n",
      "(y/n)\n",
      "y\n",
      "Your total bill is $8\n"
     ]
    }
   ],
   "source": [
    "# Adding functionality to code to give Free ride to people who are suffering midlife crisis\n",
    "\n",
    "print(\"Welcome to the roller coaster!\")\n",
    "\n",
    "height = int(input(\"What is your height? (in cm)\\n\"))\n",
    "\n",
    "if height >= 120:\n",
    "    bill = 0\n",
    "    age = int(input(\"What is your age?\\n\"))\n",
    "    if age >= 45 and age <= 55:\n",
    "        is_in_midlife_crisis = True\n",
    "        print(\"Everything is going to be ok. Have a free ride!\")\n",
    "        bill += 0\n",
    "    elif age < 12:\n",
    "        is_in_midlife_crisis = False\n",
    "        print(\"Child tickets are $5.\")\n",
    "        bill+=5\n",
    "    elif age < 18:\n",
    "        is_in_midlife_crisis = False\n",
    "        print(\"Youth tickets are $7.\")\n",
    "        bill+=7\n",
    "    else:\n",
    "        is_in_midlife_crisis = False\n",
    "        print(\"Adult tickets are $12.\")\n",
    "        bill+=12\n",
    "    \n",
    "    wants_photo = input(\"Do you want your photos enjoying the ride?\\nAdditional price is $3\\n(y/n)\\n\")\n",
    "    if want_photos == \"y\" and not is_in_midlife_crisis:\n",
    "        bill+=3\n",
    "    print(f\"Your total bill is ${bill}\")\n",
    "    \n",
    "else:\n",
    "    print(\"Sorry you have to grow taller before you ride roller coasters!\")"
   ]
  },
  {
   "cell_type": "code",
   "execution_count": 78,
   "id": "f7e9f0c5",
   "metadata": {},
   "outputs": [
    {
     "name": "stdout",
     "output_type": "stream",
     "text": [
      "Welcome to the Love Calculator!\n",
      "What is your name? \n",
      "Dean Winchester\n",
      "What is their name? \n",
      "Lisa Winchester\n",
      "Your score is 96, you go together like coke and mentos.\n"
     ]
    }
   ],
   "source": [
    "# Challenge - Love Calculator\n",
    "\n",
    "# 🚨 Don't change the code below 👇\n",
    "print(\"Welcome to the Love Calculator!\")\n",
    "name1 = input(\"What is your name? \\n\")\n",
    "name2 = input(\"What is their name? \\n\")\n",
    "# 🚨 Don't change the code above 👆\n",
    "\n",
    "#Write your code below this line 👇\n",
    "\n",
    "name1 = name1.lower()\n",
    "name2 = name2.lower()\n",
    "\n",
    "name = name1 + name2\n",
    "\n",
    "true_count = name.count(\"t\") + name.count(\"r\") + name.count(\"u\") + name.count(\"e\")\n",
    "love_count =  name.count(\"l\") + name.count(\"o\") + name.count(\"v\") + name.count(\"e\")\n",
    "\n",
    "score = str(true_count) + str(love_count)\n",
    "score = int(score)\n",
    "if (score < 10) or (score > 90):\n",
    "    print(f\"Your score is {score}, you go together like coke and mentos.\")\n",
    "elif (score >= 40) and (score <= 50):\n",
    "    print(f\"Your score is {score}, you are alright together.\")\n",
    "else:\n",
    "    print(f\"Your score is {score}.\")"
   ]
  },
  {
   "cell_type": "markdown",
   "id": "214d7bc9",
   "metadata": {},
   "source": [
    "## Project - Treasure Island"
   ]
  },
  {
   "cell_type": "code",
   "execution_count": 4,
   "id": "f4ce14fd",
   "metadata": {},
   "outputs": [
    {
     "name": "stdout",
     "output_type": "stream",
     "text": [
      "*******************************************************************************\n",
      "          |                   |                  |                     |\n",
      " _________|________________.=\"\"_;=.______________|_____________________|_______\n",
      "|                   |  ,-\"_,=\"\"     `\"=.|                  |\n",
      "|___________________|__\"=._o`\"-._        `\"=.______________|___________________\n",
      "          |                `\"=._o`\"=._      _`\"=._                     |\n",
      " _________|_____________________:=._o \"=._.\"_.-=\"'\"=.__________________|_______\n",
      "|                   |    __.--\" , ; `\"=._o.\" ,-\"\"\"-._ \".   |\n",
      "|___________________|_._\"  ,. .` ` `` ,  `\"-._\"-._   \". '__|___________________\n",
      "          |           |o`\"=._` , \"` `; .\". ,  \"-._\"-._; ;              |\n",
      " _________|___________| ;`-.o`\"=._; .\" ` '`.\"\\` . \"-._ /_______________|_______\n",
      "|                   | |o;    `\"-.o`\"=._``  '` \" ,__.--o;   |\n",
      "|___________________|_| ;     (#) `-.o `\"=.`_.--\"_o.-; ;___|___________________\n",
      "____/______/______/___|o;._    \"      `\".o|o_.--\"    ;o;____/______/______/____\n",
      "/______/______/______/_\"=._o--._        ; | ;        ; ;/______/______/______/_\n",
      "____/______/______/______/__\"=._o--._   ;o|o;     _._;o;____/______/______/____\n",
      "/______/______/______/______/____\"=._o._; | ;_.--\"o.--\"_/______/______/______/_\n",
      "____/______/______/______/______/_____\"=.o|o_.--\"\"___/______/______/______/____\n",
      "/______/______/______/______/______/______/______/______/______/______/______/\n",
      "*******************************************************************************\n",
      "Welcome to the Treasure Island. Your mission is to find the treasure.\n",
      "You're at cross road. Where do you want to go? Type \"left\" or \"right\"\n",
      "left\n",
      "\n",
      "                                                    ____\n",
      "                                         v        _(    )\n",
      "        _ ^ _                          v         (___(__)\n",
      "       '_\\V/ `\n",
      "       ' oX`\n",
      "          X                            v\n",
      "          X                   \n",
      "          X                                                 .\n",
      "          X                                                 |          X.a##a.                                           |_       .aa########a.                                      __|__\n",
      "    .a################aa.                                 \\   /\n",
      "~~~~~~~~~~~~~~~~~~~~~~~~~~~~~~~~~~~~~~~~~~~~~~~~~~~~~~~~~~~~~~~~~~~~\n",
      "You come to a lake. There is an island in the middle of the lake. Type \"wait\" to wait for a boat. Type \"swim\" to swim across.\n",
      "wait\n",
      "You arrive at the island unharmed. There is a house with 3 doors. One red, one yellow and one blue. Which colour do you choose?\n",
      "blue\n",
      "\n",
      "                            _.--.\n",
      "                        _.-'_:-'||\n",
      "                    _.-'_.-::::'||\n",
      "               _.-:'_.-::::::'  ||\n",
      "             .'`-.-:::::::'     ||\n",
      "            /.'`;|:::::::'      ||_\n",
      "           ||   ||::::::'     _.;._'-._\n",
      "           ||   ||:::::'  _.-!oo @.!-._'-.\n",
      "           \\'.  ||:::::.-!()oo @!()@.-'_.|\n",
      "            '.'-;|:.-'.&$@.& ()$%-'o.'\\U||\n",
      "              `>'-.!@%()@'@_%-'_.-o _.|'||\n",
      "               ||-._'-.@.-'_.-' _.-o  |'||\n",
      "               ||=[ '-._.-\\U/.-'    o |'||\n",
      "               || '-.]=|| |'|      o  |'||\n",
      "               ||      || |'|        _| ';\n",
      "               ||      || |'|    _.-'_.-'\n",
      "               |'-._   || |'|_.-'_.-'\n",
      "                '-._'-.|| |' `_.-'\n",
      "                    '-.||_/.-'\n",
      "                    \n",
      "You found the treasure. You win!\n"
     ]
    }
   ],
   "source": [
    "intro = '''*******************************************************************************\n",
    "          |                   |                  |                     |\n",
    " _________|________________.=\"\"_;=.______________|_____________________|_______\n",
    "|                   |  ,-\"_,=\"\"     `\"=.|                  |\n",
    "|___________________|__\"=._o`\"-._        `\"=.______________|___________________\n",
    "          |                `\"=._o`\"=._      _`\"=._                     |\n",
    " _________|_____________________:=._o \"=._.\"_.-=\"'\"=.__________________|_______\n",
    "|                   |    __.--\" , ; `\"=._o.\" ,-\"\"\"-._ \".   |\n",
    "|___________________|_._\"  ,. .` ` `` ,  `\"-._\"-._   \". '__|___________________\n",
    "          |           |o`\"=._` , \"` `; .\". ,  \"-._\"-._; ;              |\n",
    " _________|___________| ;`-.o`\"=._; .\" ` '`.\"\\` . \"-._ /_______________|_______\n",
    "|                   | |o;    `\"-.o`\"=._``  '` \" ,__.--o;   |\n",
    "|___________________|_| ;     (#) `-.o `\"=.`_.--\"_o.-; ;___|___________________\n",
    "____/______/______/___|o;._    \"      `\".o|o_.--\"    ;o;____/______/______/____\n",
    "/______/______/______/_\"=._o--._        ; | ;        ; ;/______/______/______/_\n",
    "____/______/______/______/__\"=._o--._   ;o|o;     _._;o;____/______/______/____\n",
    "/______/______/______/______/____\"=._o._; | ;_.--\"o.--\"_/______/______/______/_\n",
    "____/______/______/______/______/_____\"=.o|o_.--\"\"___/______/______/______/____\n",
    "/______/______/______/______/______/______/______/______/______/______/______/\n",
    "*******************************************************************************'''\n",
    "\n",
    "lake = '''\n",
    "                                                    ____\n",
    "                                         v        _(    )\n",
    "        _ ^ _                          v         (___(__)\n",
    "       '_\\V/ `\n",
    "       ' oX`\n",
    "          X                            v\n",
    "          X                   \n",
    "          X                                                 .\n",
    "          X                                                 |\\\n",
    "          X.a##a.                                           |_\\\n",
    "       .aa########a.                                      __|__\n",
    "    .a################aa.                                 \\   /\n",
    "~~~~~~~~~~~~~~~~~~~~~~~~~~~~~~~~~~~~~~~~~~~~~~~~~~~~~~~~~~~~~~~~~~~~'''\n",
    "\n",
    "crocodile = \"\"\"                    .-._   _ _ _ _ _ _ _ _\n",
    "         .-''-.__.-'00  '-' ' ' ' ' ' ' ' '-.\n",
    "         '.___ '    .   .--_'-' '-' '-' _'-' '._\n",
    "          V: V 'vv-'   '_   '.       .'  _..' '.'.\n",
    "            '=.____.=_.--'   :_.__.__:_   '.   : :\n",
    "                    (((____.-'        '-.  /   : :\n",
    "                                      (((-'\\ .' /\n",
    "                                    _____..'  .'\n",
    "                                   '-._____.-'\n",
    "                                   \"\"\"\n",
    "\n",
    "dragon = \"\"\"\n",
    "                ,'\\   |\\\n",
    "               / /.:  ;;\n",
    "              / :'|| //\n",
    "             (| | ||;'\n",
    "             / ||,;'-.._\n",
    "            : ,;,`';:.--`\n",
    "            |:|'`-(\\\\\n",
    "            ::: \\-'\\`'\n",
    "             \\\\\\ \\,-`.\n",
    "              `'\\ `.,-`-._      ,-._\n",
    "       ,-.       \\  `.,-' `-.  / ,..`.\n",
    "      / ,.`.      `.  \\ _.-' \\',: ``\\ \\\n",
    "     / / :..`-'''``-)  `.   _.:''  ''\\ \\\n",
    "    : :  '' `-..''`/    |-''  |''  '' \\ \\\n",
    "    | |  ''   ''  :     |__..-;''  ''  : :\n",
    "    | |  ''   ''  |     ;    / ''  ''  | |\n",
    "    | |  ''   ''  ;    /--../_ ''_ '' _| |\n",
    "    | |  ''  _;:_/    :._  /-.'',-.'',-. |\n",
    "    : :  '',;'`;/     |_ ,(   `'   `'   \\|\n",
    "     \\ \\  \\(   /\\     :,'  \\\n",
    "      \\ \\.'/  : /    ,)    /\n",
    "       \\ ':   ':    / \\   :\n",
    "        `.\\    :   :\\  \\  |\n",
    "                \\  | `. \\ |..-_\n",
    "                 ) |.  `/___-.-`\n",
    "               ,'  -.'.  `. `'        _,)\n",
    "               \\'\\(`.\\ `._ `-..___..-','\n",
    "                  `'      ``-..___..-'\n",
    "\"\"\"\n",
    "beast = '''\n",
    "                   (    )\n",
    "                  ((((()))\n",
    "                  |o\\ /o)|\n",
    "                  ( (  _')\n",
    "                   (._.  /\\__\n",
    "                  ,\\___,/ '  ')\n",
    "    '.,_,,       (  .- .   .    )\n",
    "     \\   \\\\     ( '        )(    )\n",
    "      \\   \\\\    \\.  _.__ ____( .  |\n",
    "       \\  /\\\\   .(   .'  /\\  '.  )\n",
    "        \\(  \\\\.-' ( /    \\/    \\)\n",
    "         '  ()) _'.-|/\\/\\/\\/\\/\\|\n",
    "             '\\\\ .( |\\/\\/\\/\\/\\/|\n",
    "               '((  \\    /\\    /\n",
    "               ((((  '.__\\/__.')\n",
    "                ((,) /   ((()   )\n",
    "                 \"..-,  (()(\"   /\n",
    "                  _//.   ((() .\"\n",
    "          _____ //,/\" ___ ((( ', ___\n",
    "                           ((  )\n",
    "                            / /\n",
    "                          _/,/'\n",
    "                        /,/,\"\n",
    "'''\n",
    "treasure = \"\"\"\n",
    "                            _.--.\n",
    "                        _.-'_:-'||\n",
    "                    _.-'_.-::::'||\n",
    "               _.-:'_.-::::::'  ||\n",
    "             .'`-.-:::::::'     ||\n",
    "            /.'`;|:::::::'      ||_\n",
    "           ||   ||::::::'     _.;._'-._\n",
    "           ||   ||:::::'  _.-!oo @.!-._'-.\n",
    "           \\\\'.  ||:::::.-!()oo @!()@.-'_.|\n",
    "            '.'-;|:.-'.&$@.& ()$%-'o.'\\\\U||\n",
    "              `>'-.!@%()@'@_%-'_.-o _.|'||\n",
    "               ||-._'-.@.-'_.-' _.-o  |'||\n",
    "               ||=[ '-._.-\\\\U/.-'    o |'||\n",
    "               || '-.]=|| |'|      o  |'||\n",
    "               ||      || |'|        _| ';\n",
    "               ||      || |'|    _.-'_.-'\n",
    "               |'-._   || |'|_.-'_.-'\n",
    "                '-._'-.|| |' `_.-'\n",
    "                    '-.||_/.-'\n",
    "                    \"\"\"\n",
    "print(intro)\n",
    "print(\"Welcome to the Treasure Island. Your mission is to find the treasure.\")\n",
    "choose_road = input(\"You're at cross road. Where do you want to go? Type \\\"left\\\" or \\\"right\\\"\\n\")\n",
    "choose_road = choose_road.lower()\n",
    "if choose_road == \"right\":\n",
    "    print(\"You fell into quicksand mud. Game Over.\")\n",
    "elif choose_road == \"left\":\n",
    "    print(lake)\n",
    "    go_to_island = input(\"You come to a lake. There is an island in the middle of the lake. Type \\\"wait\\\" to wait for a boat. Type \\\"swim\\\" to swim across.\\n\")\n",
    "    go_to_island = go_to_island.lower()\n",
    "    if go_to_island == \"wait\":\n",
    "        choose_door = input(\"You arrive at the island unharmed. There is a house with 3 doors. One red, one yellow and one blue. Which colour do you choose?\\n\")\n",
    "        if choose_door == \"red\":\n",
    "            print(dragon)\n",
    "            print(\"You entered room of a dragon. Game Over\")\n",
    "        elif choose_door == \"yellow\":\n",
    "            print(beast)\n",
    "            print(\"You entered a room of beasts. Game Over\")\n",
    "        elif choose_door == \"blue\":\n",
    "            print(treasure)\n",
    "            print(\"You found the treasure. You win!\")\n",
    "        else:\n",
    "            print(\"You are unconscious. Game Over\")\n",
    "    elif go_to_island == \"swim\":\n",
    "        print(crocodile)\n",
    "        print(\"You entered a lake full of crocodiles. Game Over\")\n",
    "    else:\n",
    "        print(\"You are unconscious. Game over\")\n",
    "else:\n",
    "    print(\"You are unconscious. Game over\")"
   ]
  }
 ],
 "metadata": {
  "kernelspec": {
   "display_name": "Python 3 (ipykernel)",
   "language": "python",
   "name": "python3"
  },
  "language_info": {
   "codemirror_mode": {
    "name": "ipython",
    "version": 3
   },
   "file_extension": ".py",
   "mimetype": "text/x-python",
   "name": "python",
   "nbconvert_exporter": "python",
   "pygments_lexer": "ipython3",
   "version": "3.9.12"
  }
 },
 "nbformat": 4,
 "nbformat_minor": 5
}
