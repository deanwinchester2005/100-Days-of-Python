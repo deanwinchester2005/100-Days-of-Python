{
 "cells": [
  {
   "cell_type": "markdown",
   "id": "13f18c19",
   "metadata": {},
   "source": [
    "# Python Pro Bootcamp - Day 04"
   ]
  },
  {
   "cell_type": "markdown",
   "id": "8d797d38",
   "metadata": {},
   "source": [
    "### Random Module"
   ]
  },
  {
   "cell_type": "code",
   "execution_count": 2,
   "id": "2a9a269c",
   "metadata": {},
   "outputs": [],
   "source": [
    "# We can import a module by using import statement followed by module name\n",
    "import random"
   ]
  },
  {
   "cell_type": "code",
   "execution_count": 3,
   "id": "2fba83a1",
   "metadata": {},
   "outputs": [
    {
     "name": "stdout",
     "output_type": "stream",
     "text": [
      "5\n"
     ]
    }
   ],
   "source": [
    "# randint(a, b) will include both start and end points. They must be integers.\n",
    "print(random.randint(1,10))"
   ]
  },
  {
   "cell_type": "code",
   "execution_count": 5,
   "id": "b75b6511",
   "metadata": {},
   "outputs": [
    {
     "ename": "ValueError",
     "evalue": "empty range for randrange() (10, 6, -4)",
     "output_type": "error",
     "traceback": [
      "\u001b[0;31m---------------------------------------------------------------------------\u001b[0m",
      "\u001b[0;31mValueError\u001b[0m                                Traceback (most recent call last)",
      "Input \u001b[0;32mIn [5]\u001b[0m, in \u001b[0;36m<cell line: 2>\u001b[0;34m()\u001b[0m\n\u001b[1;32m      1\u001b[0m \u001b[38;5;66;03m# a has to be less than or equal to b or it will generate a value error\u001b[39;00m\n\u001b[0;32m----> 2\u001b[0m \u001b[38;5;28mprint\u001b[39m(\u001b[43mrandom\u001b[49m\u001b[38;5;241;43m.\u001b[39;49m\u001b[43mrandint\u001b[49m\u001b[43m(\u001b[49m\u001b[38;5;241;43m10\u001b[39;49m\u001b[43m,\u001b[49m\u001b[38;5;241;43m5\u001b[39;49m\u001b[43m)\u001b[49m)\n",
      "File \u001b[0;32m~/anaconda3/lib/python3.9/random.py:338\u001b[0m, in \u001b[0;36mRandom.randint\u001b[0;34m(self, a, b)\u001b[0m\n\u001b[1;32m    334\u001b[0m \u001b[38;5;28;01mdef\u001b[39;00m \u001b[38;5;21mrandint\u001b[39m(\u001b[38;5;28mself\u001b[39m, a, b):\n\u001b[1;32m    335\u001b[0m     \u001b[38;5;124;03m\"\"\"Return random integer in range [a, b], including both end points.\u001b[39;00m\n\u001b[1;32m    336\u001b[0m \u001b[38;5;124;03m    \"\"\"\u001b[39;00m\n\u001b[0;32m--> 338\u001b[0m     \u001b[38;5;28;01mreturn\u001b[39;00m \u001b[38;5;28;43mself\u001b[39;49m\u001b[38;5;241;43m.\u001b[39;49m\u001b[43mrandrange\u001b[49m\u001b[43m(\u001b[49m\u001b[43ma\u001b[49m\u001b[43m,\u001b[49m\u001b[43m \u001b[49m\u001b[43mb\u001b[49m\u001b[38;5;241;43m+\u001b[39;49m\u001b[38;5;241;43m1\u001b[39;49m\u001b[43m)\u001b[49m\n",
      "File \u001b[0;32m~/anaconda3/lib/python3.9/random.py:316\u001b[0m, in \u001b[0;36mRandom.randrange\u001b[0;34m(self, start, stop, step)\u001b[0m\n\u001b[1;32m    314\u001b[0m     \u001b[38;5;28;01mreturn\u001b[39;00m istart \u001b[38;5;241m+\u001b[39m \u001b[38;5;28mself\u001b[39m\u001b[38;5;241m.\u001b[39m_randbelow(width)\n\u001b[1;32m    315\u001b[0m \u001b[38;5;28;01mif\u001b[39;00m step \u001b[38;5;241m==\u001b[39m \u001b[38;5;241m1\u001b[39m:\n\u001b[0;32m--> 316\u001b[0m     \u001b[38;5;28;01mraise\u001b[39;00m \u001b[38;5;167;01mValueError\u001b[39;00m(\u001b[38;5;124m\"\u001b[39m\u001b[38;5;124mempty range for randrange() (\u001b[39m\u001b[38;5;132;01m%d\u001b[39;00m\u001b[38;5;124m, \u001b[39m\u001b[38;5;132;01m%d\u001b[39;00m\u001b[38;5;124m, \u001b[39m\u001b[38;5;132;01m%d\u001b[39;00m\u001b[38;5;124m)\u001b[39m\u001b[38;5;124m\"\u001b[39m \u001b[38;5;241m%\u001b[39m (istart, istop, width))\n\u001b[1;32m    318\u001b[0m \u001b[38;5;66;03m# Non-unit step argument supplied.\u001b[39;00m\n\u001b[1;32m    319\u001b[0m istep \u001b[38;5;241m=\u001b[39m \u001b[38;5;28mint\u001b[39m(step)\n",
      "\u001b[0;31mValueError\u001b[0m: empty range for randrange() (10, 6, -4)"
     ]
    }
   ],
   "source": [
    "# a has to be less than or equal to b or it will generate a value error\n",
    "print(random.randint(10,5))"
   ]
  },
  {
   "cell_type": "markdown",
   "id": "989a5858",
   "metadata": {},
   "source": [
    "### Importing our own modules"
   ]
  },
  {
   "cell_type": "code",
   "execution_count": 5,
   "id": "09935f70",
   "metadata": {},
   "outputs": [
    {
     "name": "stdout",
     "output_type": "stream",
     "text": [
      "3.1415926536\n"
     ]
    }
   ],
   "source": [
    "# We can create a module by simply creating a .py file in same directory in which this file is stored\n",
    "# We created a my_module named python file as reference.\n",
    "import my_module\n",
    "print(my_module.pi)"
   ]
  },
  {
   "cell_type": "markdown",
   "id": "6ecd0556",
   "metadata": {},
   "source": [
    "### Generating random floating point number between 0 and 1."
   ]
  },
  {
   "cell_type": "code",
   "execution_count": 7,
   "id": "c54f356c",
   "metadata": {},
   "outputs": [
    {
     "name": "stdout",
     "output_type": "stream",
     "text": [
      "0.3102710827507089\n"
     ]
    }
   ],
   "source": [
    "# random.random[a, b)\n",
    "print(random.random())"
   ]
  },
  {
   "cell_type": "markdown",
   "id": "3a05eb0c",
   "metadata": {},
   "source": [
    "### How to we generate random floating point number between 0 and 5?"
   ]
  },
  {
   "cell_type": "code",
   "execution_count": 42,
   "id": "3971db49",
   "metadata": {},
   "outputs": [
    {
     "name": "stdout",
     "output_type": "stream",
     "text": [
      "1.4546911268539109\n"
     ]
    }
   ],
   "source": [
    "# Just multiply the result by n if you want a random number between 0 and n\n",
    "print(5*random.random())"
   ]
  },
  {
   "cell_type": "code",
   "execution_count": 50,
   "id": "6432f154",
   "metadata": {},
   "outputs": [
    {
     "name": "stdout",
     "output_type": "stream",
     "text": [
      "Your love score is 90\n"
     ]
    }
   ],
   "source": [
    "# Love Score\n",
    "love_score = random.randint(0, 100)\n",
    "print(f\"Your love score is {love_score}\")"
   ]
  },
  {
   "cell_type": "code",
   "execution_count": 53,
   "id": "a8ff3540",
   "metadata": {},
   "outputs": [
    {
     "name": "stdout",
     "output_type": "stream",
     "text": [
      "Heads\n"
     ]
    }
   ],
   "source": [
    "#Remember to use the random module\n",
    "#Hint: Remember to import the random module here at the top of the file. 🎲\n",
    "import random \n",
    "# 🚨 Don't change the code below 👇\n",
    "test_seed = int(input(\"Create a seed number: \"))\n",
    "random.seed(test_seed)\n",
    " # 🚨 Don't change the code above 👆 It's only for testing your code.\n",
    "\t \n",
    "#Write the rest of your code below this line 👇\n",
    "toss_result = random.randint(0,1)\n",
    "\n",
    "if toss_result == 0:\n",
    "    print(\"Tails\")\n",
    "else:\n",
    "    print(\"Heads\")"
   ]
  },
  {
   "cell_type": "markdown",
   "id": "7b909987",
   "metadata": {},
   "source": [
    "### Lists"
   ]
  },
  {
   "cell_type": "code",
   "execution_count": 54,
   "id": "2cf6fcd8",
   "metadata": {},
   "outputs": [],
   "source": [
    "states_of_america = [\"Delaware\", \"Pennsylvania\", \"New Jersey\", \"Georgia\", \"Connecticut\", \"Massachusetts\", \"Maryland\", \"South Carolina\", \"New Hampshire\", \"Virginia\", \"New York\", \"North Carolina\", \"Rhode Island\", \"Vermont\", \"Kentucky\", \"Tennessee\", \"Ohio\", \"Louisiana\", \"Indiana\", \"Mississippi\", \"Illinois\", \"Alabama\", \"Maine\", \"Missouri\", \"Arkansas\", \"Michigan\", \"Florida\", \"Texas\", \"Iowa\", \"Wisconsin\", \"California\", \"Minnesota\", \"Oregon\", \"Kansas\", \"West Virginia\", \"Nevada\", \"Nebraska\", \"Colorado\", \"North Dakota\", \"South Dakota\", \"Montana\", \"Washington\", \"Idaho\", \"Wyoming\", \"Utah\", \"Oklahoma\", \"New Mexico\", \"Arizona\", \"Alaska\", \"Hawaii\"]"
   ]
  },
  {
   "cell_type": "code",
   "execution_count": 55,
   "id": "06fdade3",
   "metadata": {},
   "outputs": [
    {
     "name": "stdout",
     "output_type": "stream",
     "text": [
      "['Delaware', 'Pennsylvania', 'New Jersey', 'Georgia', 'Connecticut', 'Massachusetts', 'Maryland', 'South Carolina', 'New Hampshire', 'Virginia', 'New York', 'North Carolina', 'Rhode Island', 'Vermont', 'Kentucky', 'Tennessee', 'Ohio', 'Louisiana', 'Indiana', 'Mississippi', 'Illinois', 'Alabama', 'Maine', 'Missouri', 'Arkansas', 'Michigan', 'Florida', 'Texas', 'Iowa', 'Wisconsin', 'California', 'Minnesota', 'Oregon', 'Kansas', 'West Virginia', 'Nevada', 'Nebraska', 'Colorado', 'North Dakota', 'South Dakota', 'Montana', 'Washington', 'Idaho', 'Wyoming', 'Utah', 'Oklahoma', 'New Mexico', 'Arizona', 'Alaska', 'Hawaii']\n"
     ]
    }
   ],
   "source": [
    "print(states_of_america)"
   ]
  },
  {
   "cell_type": "code",
   "execution_count": 56,
   "id": "874dc636",
   "metadata": {},
   "outputs": [
    {
     "name": "stdout",
     "output_type": "stream",
     "text": [
      "Pennsylvania\n"
     ]
    }
   ],
   "source": [
    "# Accessing elements from list using offset or index\n",
    "print(states_of_america[1])"
   ]
  },
  {
   "cell_type": "code",
   "execution_count": 58,
   "id": "f21bd045",
   "metadata": {},
   "outputs": [
    {
     "name": "stdout",
     "output_type": "stream",
     "text": [
      "['Delaware', 'Pencilvania', 'New Jersey', 'Georgia', 'Connecticut', 'Massachusetts', 'Maryland', 'South Carolina', 'New Hampshire', 'Virginia', 'New York', 'North Carolina', 'Rhode Island', 'Vermont', 'Kentucky', 'Tennessee', 'Ohio', 'Louisiana', 'Indiana', 'Mississippi', 'Illinois', 'Alabama', 'Maine', 'Missouri', 'Arkansas', 'Michigan', 'Florida', 'Texas', 'Iowa', 'Wisconsin', 'California', 'Minnesota', 'Oregon', 'Kansas', 'West Virginia', 'Nevada', 'Nebraska', 'Colorado', 'North Dakota', 'South Dakota', 'Montana', 'Washington', 'Idaho', 'Wyoming', 'Utah', 'Oklahoma', 'New Mexico', 'Arizona', 'Alaska', 'Hawaii']\n"
     ]
    }
   ],
   "source": [
    "# We can change elements in the list by simply assigning a new element\n",
    "states_of_america[1] = 'Pencilvania'\n",
    "print(states_of_america)\n",
    "# Notice how second element , i.e. Pennsylvania changes to Pencilvania"
   ]
  },
  {
   "cell_type": "code",
   "execution_count": 59,
   "id": "2ab56a9c",
   "metadata": {},
   "outputs": [],
   "source": [
    "# Adding an element at the end of a list\n",
    "states_of_america.append(\"WinchesterLand\")"
   ]
  },
  {
   "cell_type": "code",
   "execution_count": 60,
   "id": "49325bae",
   "metadata": {},
   "outputs": [
    {
     "name": "stdout",
     "output_type": "stream",
     "text": [
      "['Delaware', 'Pencilvania', 'New Jersey', 'Georgia', 'Connecticut', 'Massachusetts', 'Maryland', 'South Carolina', 'New Hampshire', 'Virginia', 'New York', 'North Carolina', 'Rhode Island', 'Vermont', 'Kentucky', 'Tennessee', 'Ohio', 'Louisiana', 'Indiana', 'Mississippi', 'Illinois', 'Alabama', 'Maine', 'Missouri', 'Arkansas', 'Michigan', 'Florida', 'Texas', 'Iowa', 'Wisconsin', 'California', 'Minnesota', 'Oregon', 'Kansas', 'West Virginia', 'Nevada', 'Nebraska', 'Colorado', 'North Dakota', 'South Dakota', 'Montana', 'Washington', 'Idaho', 'Wyoming', 'Utah', 'Oklahoma', 'New Mexico', 'Arizona', 'Alaska', 'Hawaii', 'WinchesterLand']\n"
     ]
    }
   ],
   "source": [
    "print(states_of_america)"
   ]
  },
  {
   "cell_type": "code",
   "execution_count": 61,
   "id": "e542ad31",
   "metadata": {},
   "outputs": [],
   "source": [
    "# Adding a list to a list using extend() function\n",
    "states_of_america.extend([\"Men of Letter's Bunker\", \"FairyLand\"])"
   ]
  },
  {
   "cell_type": "code",
   "execution_count": 62,
   "id": "9b5a3f2b",
   "metadata": {},
   "outputs": [
    {
     "name": "stdout",
     "output_type": "stream",
     "text": [
      "['Delaware', 'Pencilvania', 'New Jersey', 'Georgia', 'Connecticut', 'Massachusetts', 'Maryland', 'South Carolina', 'New Hampshire', 'Virginia', 'New York', 'North Carolina', 'Rhode Island', 'Vermont', 'Kentucky', 'Tennessee', 'Ohio', 'Louisiana', 'Indiana', 'Mississippi', 'Illinois', 'Alabama', 'Maine', 'Missouri', 'Arkansas', 'Michigan', 'Florida', 'Texas', 'Iowa', 'Wisconsin', 'California', 'Minnesota', 'Oregon', 'Kansas', 'West Virginia', 'Nevada', 'Nebraska', 'Colorado', 'North Dakota', 'South Dakota', 'Montana', 'Washington', 'Idaho', 'Wyoming', 'Utah', 'Oklahoma', 'New Mexico', 'Arizona', 'Alaska', 'Hawaii', 'WinchesterLand', \"Men of Letter's Bunker\", 'FairyLand']\n"
     ]
    }
   ],
   "source": [
    "print(states_of_america)"
   ]
  },
  {
   "cell_type": "code",
   "execution_count": 76,
   "id": "f9aa1f61",
   "metadata": {},
   "outputs": [
    {
     "name": "stdout",
     "output_type": "stream",
     "text": [
      "Castiel is going to buy the meal today!\n"
     ]
    }
   ],
   "source": [
    "# Split string method\n",
    "names_string = input(\"Give me everybody's names, separated by a comma. \")\n",
    "names = names_string.split(\", \")\n",
    "# 🚨 Don't change the code above 👆\n",
    "\n",
    "#Write your code below this line 👇\n",
    "\n",
    "number_of_people = len(names)\n",
    "\n",
    "# Take a look and think why we have to subtract 1 from number of people\n",
    "# If we don't subtract then generated index can also be the length of list and if it is passed as an index or an offset then we will get an Index Error\n",
    "# Take a minute and think why we will get an Index Error\n",
    "# If length of list is 1 and we pass it as it is then 1 can be generated randomly as it is inclusive in randint() but list_name[1] will give us error as there is no element at that index\n",
    "random_int = random.randint(0,number_of_people-1)\n",
    "chosen_person = names[random_int]\n",
    "\n",
    "print(f\"{chosen_person} is going to buy the meal today!\")"
   ]
  },
  {
   "cell_type": "code",
   "execution_count": 83,
   "id": "b38b4ce3",
   "metadata": {},
   "outputs": [
    {
     "ename": "IndexError",
     "evalue": "list index out of range",
     "output_type": "error",
     "traceback": [
      "\u001b[0;31m---------------------------------------------------------------------------\u001b[0m",
      "\u001b[0;31mIndexError\u001b[0m                                Traceback (most recent call last)",
      "\u001b[1;32m/home/dean/Documents/NOTEBOOKS/pythonProCamp/Day04.ipynb Cell 23'\u001b[0m in \u001b[0;36m<cell line: 4>\u001b[0;34m()\u001b[0m\n\u001b[1;32m      <a href='vscode-notebook-cell:/home/dean/Documents/NOTEBOOKS/pythonProCamp/Day04.ipynb#ch0000027?line=1'>2</a>\u001b[0m example_list \u001b[39m=\u001b[39m [\u001b[39m'\u001b[39m\u001b[39mhello\u001b[39m\u001b[39m'\u001b[39m, \u001b[39m'\u001b[39m\u001b[39mworld\u001b[39m\u001b[39m'\u001b[39m, \u001b[39m'\u001b[39m\u001b[39m!\u001b[39m\u001b[39m'\u001b[39m]\n\u001b[1;32m      <a href='vscode-notebook-cell:/home/dean/Documents/NOTEBOOKS/pythonProCamp/Day04.ipynb#ch0000027?line=2'>3</a>\u001b[0m length \u001b[39m=\u001b[39m \u001b[39mlen\u001b[39m(example_list)\n\u001b[0;32m----> <a href='vscode-notebook-cell:/home/dean/Documents/NOTEBOOKS/pythonProCamp/Day04.ipynb#ch0000027?line=3'>4</a>\u001b[0m \u001b[39mprint\u001b[39m(example_list[length])\n",
      "\u001b[0;31mIndexError\u001b[0m: list index out of range"
     ]
    }
   ],
   "source": [
    "# Here you will get an index error because no item exists at 3rd position\n",
    "example_list = ['hello', 'world', '!']\n",
    "length = len(example_list)\n",
    "print(example_list[length])"
   ]
  },
  {
   "cell_type": "code",
   "execution_count": 80,
   "id": "971f68ca",
   "metadata": {},
   "outputs": [],
   "source": [
    "dirty_dozen = [\"Strawberries\", \"Spinach\", \"Kale\", \"Nectarines\", \"Apples\", \"Grapes\", \"Peaches\", \"Cherries\", \"Pears\", \"Tomatoes\", \"Celery\", \"Potatoes\"]"
   ]
  },
  {
   "cell_type": "code",
   "execution_count": 81,
   "id": "2a2d5e08",
   "metadata": {},
   "outputs": [],
   "source": [
    "fruits = ['Strawberries', 'Nectarines', 'Apples', 'Grapes', 'Peaches', 'Cherries', 'Pears']\n",
    "vegetables = ['Spinach', 'Kale', 'Tomatoes', 'Celery', 'Potatoes']"
   ]
  },
  {
   "cell_type": "markdown",
   "id": "c851bd3d",
   "metadata": {},
   "source": [
    "### Nested Lists"
   ]
  },
  {
   "cell_type": "code",
   "execution_count": 84,
   "id": "51ef705c",
   "metadata": {},
   "outputs": [],
   "source": [
    "dirty_dozen = [fruits, vegetables]"
   ]
  },
  {
   "cell_type": "code",
   "execution_count": 85,
   "id": "cf8974e0",
   "metadata": {},
   "outputs": [
    {
     "name": "stdout",
     "output_type": "stream",
     "text": [
      "[['Strawberries', 'Nectarines', 'Apples', 'Grapes', 'Peaches', 'Cherries', 'Pears'], ['Spinach', 'Kale', 'Tomatoes', 'Celery', 'Potatoes']]\n"
     ]
    }
   ],
   "source": [
    "print(dirty_dozen)"
   ]
  },
  {
   "cell_type": "code",
   "execution_count": 87,
   "id": "f901992a",
   "metadata": {},
   "outputs": [
    {
     "name": "stdout",
     "output_type": "stream",
     "text": [
      "['⬜️', '⬜️', '⬜️']\n",
      "['⬜️', '⬜️', '⬜️']\n",
      "['⬜️', '⬜️', '⬜️']\n",
      "\n",
      "['⬜️', '⬜️', '⬜️']\n",
      "['⬜️', '⬜️', '⬜️']\n",
      "['⬜️', 'X', '⬜️']\n"
     ]
    }
   ],
   "source": [
    "# Challenge - Treasure Map\n",
    "# 🚨 Don't change the code below 👇\n",
    "row1 = [\"⬜️\",\"⬜️\",\"⬜️\"]\n",
    "row2 = [\"⬜️\",\"⬜️\",\"⬜️\"]\n",
    "row3 = [\"⬜️\",\"⬜️\",\"⬜️\"]\n",
    "map = [row1, row2, row3]\n",
    "print(f\"{row1}\\n{row2}\\n{row3}\")\n",
    "position = input(\"Where do you want to put the treasure? \")\n",
    "# 🚨 Don't change the code above 👆\n",
    "\n",
    "#Write your code below this row 👇\n",
    "\n",
    "column = int(position[0])\n",
    "row = int(position[1])\n",
    "\n",
    "map[row-1][column-1] = 'X'\n",
    "\n",
    "\n",
    "#Write your code above this row 👆\n",
    "\n",
    "# 🚨 Don't change the code below 👇\n",
    "print(\"\")\n",
    "print(f\"{row1}\\n{row2}\\n{row3}\")"
   ]
  },
  {
   "cell_type": "markdown",
   "id": "cbac2fe3",
   "metadata": {},
   "source": [
    "## Project - Rock Paper Scissors"
   ]
  },
  {
   "cell_type": "code",
   "execution_count": 124,
   "id": "7d80700e",
   "metadata": {},
   "outputs": [
    {
     "name": "stdout",
     "output_type": "stream",
     "text": [
      "You chose:\n",
      "\n",
      "    _______\n",
      "---'   ____)____\n",
      "          ______)\n",
      "          _______)\n",
      "         _______)\n",
      "---.__________)\n",
      "\n",
      "\n",
      "Computer chose:\n",
      "\n",
      "    _______\n",
      "---'   ____)\n",
      "      (_____)\n",
      "      (_____)\n",
      "      (____)\n",
      "---.__(___)\n",
      "\n",
      "You Won! 🏆\n"
     ]
    }
   ],
   "source": [
    "rock = '''\n",
    "    _______\n",
    "---'   ____)\n",
    "      (_____)\n",
    "      (_____)\n",
    "      (____)\n",
    "---.__(___)\n",
    "'''\n",
    "\n",
    "paper = '''\n",
    "    _______\n",
    "---'   ____)____\n",
    "          ______)\n",
    "          _______)\n",
    "         _______)\n",
    "---.__________)\n",
    "'''\n",
    "\n",
    "scissors = '''\n",
    "    _______\n",
    "---'   ____)____\n",
    "          ______)\n",
    "       __________)\n",
    "      (____)\n",
    "---.__(___)\n",
    "'''\n",
    "\n",
    "#Write your code below this line 👇\n",
    "import random\n",
    "choices = [rock, paper, scissors]\n",
    "user_choice = int(input(\"What do you choose? Type 0 for Rock, 1 for paper or 2 for Scissors.\\n\"))\n",
    "computer_choice = random.randint(0,2)\n",
    "\n",
    "is_valid = False\n",
    "\n",
    "# 0 wins against 2\n",
    "# 1 wins against 0\n",
    "# 2 wins against 1\n",
    "winning_line = \"You Won! 🏆\"\n",
    "losing_line = \"You Lose 🤖\"\n",
    "draw_line = \"It's a draw 🪢\"\n",
    "if user_choice == 0 or user_choice ==1 or user_choice ==2:\n",
    "    is_valid = True\n",
    "else:\n",
    "    print(\"Invalid number. You lose!\")\n",
    "\n",
    "\n",
    "if is_valid:\n",
    "\tprint(\"You chose:\")\n",
    "\tprint(choices[user_choice])\n",
    "\tprint(\"\\nComputer chose:\")\n",
    "\tprint(choices[computer_choice])\n",
    "\tif user_choice == computer_choice:\n",
    "\t\tprint(draw_line)\n",
    "\telif user_choice == 0 and computer_choice != 1:\n",
    "\t\tprint(winning_line)\n",
    "\telif user_choice == 1 and computer_choice != 2:\n",
    "\t\tprint(winning_line)\n",
    "\telif user_choice == 2 and computer_choice != 0:\n",
    "\t\tprint(winning_line)\n",
    "\telse:\n",
    "\t\tprint(losing_line)"
   ]
  }
 ],
 "metadata": {
  "kernelspec": {
   "display_name": "Python 3 (ipykernel)",
   "language": "python",
   "name": "python3"
  },
  "language_info": {
   "codemirror_mode": {
    "name": "ipython",
    "version": 3
   },
   "file_extension": ".py",
   "mimetype": "text/x-python",
   "name": "python",
   "nbconvert_exporter": "python",
   "pygments_lexer": "ipython3",
   "version": "3.9.12"
  }
 },
 "nbformat": 4,
 "nbformat_minor": 5
}
