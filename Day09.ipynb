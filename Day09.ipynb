{
 "cells": [
  {
   "cell_type": "markdown",
   "id": "5f5ad2a3",
   "metadata": {},
   "source": [
    "# Python Pro Bootcamp - Day 09"
   ]
  },
  {
   "cell_type": "markdown",
   "id": "e1943108",
   "metadata": {},
   "source": [
    "## Dictionaries in python"
   ]
  },
  {
   "cell_type": "code",
   "execution_count": 8,
   "id": "24ddaa40",
   "metadata": {},
   "outputs": [],
   "source": [
    "# Syntax \n",
    "# dictionary_name = {key: value} #You can add as many key-value pairs as you want\n",
    "supernatural_dictionary = {\n",
    "    \"SPN\": \"A shortened version of the show name Supernatural. All three letters are pronounced separately.\",\n",
    "    \"J2\": \"Supernatural stars Jared Padalecki and Jensen Ackles’ first initials.\",\n",
    "    \"Baby\": \"Nickname of the Impala\",\n",
    "}"
   ]
  },
  {
   "cell_type": "code",
   "execution_count": 9,
   "id": "1ca3fe92",
   "metadata": {},
   "outputs": [
    {
     "name": "stdout",
     "output_type": "stream",
     "text": [
      "Nickname of the Impala\n"
     ]
    }
   ],
   "source": [
    "# Accessing the values from dictionary\n",
    "print(supernatural_dictionary[\"Baby\"])"
   ]
  },
  {
   "cell_type": "code",
   "execution_count": 10,
   "id": "4a019bc2",
   "metadata": {},
   "outputs": [
    {
     "name": "stdout",
     "output_type": "stream",
     "text": [
      "SPN\n",
      "J2\n",
      "Baby\n"
     ]
    }
   ],
   "source": [
    "# Accessing all the keys\n",
    "for key in supernatural_dictionary:\n",
    "    print(key)"
   ]
  },
  {
   "cell_type": "code",
   "execution_count": 11,
   "id": "f5adbb01",
   "metadata": {},
   "outputs": [
    {
     "name": "stdout",
     "output_type": "stream",
     "text": [
      "A shortened version of the show name Supernatural. All three letters are pronounced separately.\n",
      "Supernatural stars Jared Padalecki and Jensen Ackles’ first initials.\n",
      "Nickname of the Impala\n"
     ]
    }
   ],
   "source": [
    "# Accessing values\n",
    "for key in supernatural_dictionary:\n",
    "    print(supernatural_dictionary[key])"
   ]
  },
  {
   "cell_type": "code",
   "execution_count": 12,
   "id": "1f9b3899",
   "metadata": {},
   "outputs": [],
   "source": [
    "# Wiping a dictionary\n",
    "supernatural_dictionary = {}"
   ]
  },
  {
   "cell_type": "code",
   "execution_count": 13,
   "id": "ccfe30cc",
   "metadata": {},
   "outputs": [
    {
     "name": "stdout",
     "output_type": "stream",
     "text": [
      "{}\n"
     ]
    }
   ],
   "source": [
    "print(supernatural_dictionary)"
   ]
  },
  {
   "cell_type": "code",
   "execution_count": 17,
   "id": "09778d9d",
   "metadata": {},
   "outputs": [
    {
     "name": "stdout",
     "output_type": "stream",
     "text": [
      "{'Dean': 'Squirrel', 'Sam': 'Moose', 'Castiel': 'Cass'}\n"
     ]
    }
   ],
   "source": [
    "# Adding elements to dictionary\n",
    "# Tip---> To Insert emojis, just press ctrl + . and then press space button \n",
    "nicknames = {\n",
    "    \"Dean\": \"Squirrel\",\n",
    "    \"Sam\": \"Moose\",\n",
    "}\n",
    "nicknames[\"Castiel\"] = \"Cass\"\n",
    "print(nicknames)"
   ]
  },
  {
   "cell_type": "code",
   "execution_count": 21,
   "id": "92712448",
   "metadata": {},
   "outputs": [
    {
     "name": "stdout",
     "output_type": "stream",
     "text": [
      "{'Dean': 'Squirrel', 'Sam': 'Moose', 'Castiel': 'Angel of the Lord'}\n"
     ]
    }
   ],
   "source": [
    "# Changing a value in dictionary\n",
    "nicknames[\"Castiel\"] = \"Angel of the Lord\"\n",
    "print(nicknames)"
   ]
  },
  {
   "cell_type": "code",
   "execution_count": 26,
   "id": "08bdc576",
   "metadata": {},
   "outputs": [
    {
     "name": "stdout",
     "output_type": "stream",
     "text": [
      "Dean exceeds Expectations\n",
      "Sam is Acceptable\n",
      "Bobby is a outstanding hunter\n",
      "Rufus is Acceptable\n",
      "Jody should practice\n"
     ]
    }
   ],
   "source": [
    "# Challenge - Convert scores into grades\n",
    "hunting_scores = {\n",
    "  \"Dean\": 81,\n",
    "  \"Sam\": 78,\n",
    "  \"Bobby\": 99, \n",
    "  \"Rufus\": 74,\n",
    "  \"Jody\": 62,\n",
    "}\n",
    "# 🚨 Don't change the code above 👆\n",
    "\n",
    "#TODO-1: Create an empty dictionary called student_grades.\n",
    "hunting_grades = {}\n",
    "\n",
    "#TODO-2: Write your code below to add the grades to student_grades.👇\n",
    "for hunter in hunting_scores:\n",
    "    if hunting_scores[hunter] > 90:\n",
    "        hunting_grades[hunter] = \"is a outstanding hunter\"\n",
    "    elif hunting_scores[hunter] > 80:\n",
    "        hunting_grades[hunter] = \"exceeds Expectations\"\n",
    "    elif hunting_scores[hunter] > 70:\n",
    "        hunting_grades[hunter] = \"is Acceptable\"\n",
    "    else:\n",
    "        hunting_grades[hunter] = \"should practice\"\n",
    "    \n",
    "\n",
    "# 🚨 Don't change the code below 👇\n",
    "for hunter in hunting_grades:\n",
    "    print(f\"{hunter} {hunting_grades[hunter]}\")"
   ]
  },
  {
   "cell_type": "markdown",
   "id": "7c07da61",
   "metadata": {},
   "source": [
    "## Nesting"
   ]
  },
  {
   "cell_type": "code",
   "execution_count": 28,
   "id": "e43dd056",
   "metadata": {},
   "outputs": [],
   "source": [
    "# Nesting lists inside dictionary\n",
    "huntings = {\n",
    "    \"Dean\": [\"Ghost\", \"Witch\", \"Djinn\", \"Werewolf\"],\n",
    "    \"Sam\": [\"Ghost\", \"Vampire\", \"Witch\"]\n",
    "}"
   ]
  },
  {
   "cell_type": "code",
   "execution_count": 30,
   "id": "799ca3cb",
   "metadata": {},
   "outputs": [
    {
     "name": "stdout",
     "output_type": "stream",
     "text": [
      "Dean hunted ['Ghost', 'Witch', 'Djinn', 'Werewolf']\n"
     ]
    }
   ],
   "source": [
    "print(f\"Dean hunted {huntings['Dean']}\")"
   ]
  },
  {
   "cell_type": "code",
   "execution_count": 40,
   "id": "4b302476",
   "metadata": {},
   "outputs": [],
   "source": [
    "# Nesting dictionary inside dictionary\n",
    "huntings = {\n",
    "    \"Dean\": {\n",
    "        \"Demons\": [\"Azazel\", \"Abbadon\", \"Cain\"],\n",
    "        \"Spirits\": [\"Whitman Van Ness\", \"Sanford Ellicott\"]\n",
    "    },\n",
    "    \"Sam\": [\"Ghost\", \"Vampire\", \"Witch\"]\n",
    "}"
   ]
  },
  {
   "cell_type": "code",
   "execution_count": 34,
   "id": "b8d59b98",
   "metadata": {},
   "outputs": [
    {
     "name": "stdout",
     "output_type": "stream",
     "text": [
      "{'Demons': ['Azazel', 'Cross roads demon'], 'Spirits': ['Bridge Lady', 'Doctor of Pennsylvania']}\n"
     ]
    }
   ],
   "source": [
    "print(huntings[\"Dean\"])"
   ]
  },
  {
   "cell_type": "code",
   "execution_count": 58,
   "id": "5db2449b",
   "metadata": {},
   "outputs": [],
   "source": [
    "# Nesting Dictionary in list\n",
    "huntings = [\n",
    "    {\n",
    "        \"Name\": \"Dean\",\n",
    "        \"Score\": 100,\n",
    "        \"Demons\": [\"Azazel\", \"Abbadon\", \"Cain\"],\n",
    "        \"Spirits\": [\"Whitman Van Ness\", \"Sanford Ellicott\"]\n",
    "    },\n",
    "    {\n",
    "        \"Name\": \"Sam\",\n",
    "        \"Score\": 95,\n",
    "        \"Demons\": [\"Ramiel\", \"Alastair\", \"Lilith\"],\n",
    "        \"Spirits\": [\"Kate Fox\", \"Jordan MacNeel\"]\n",
    "        \n",
    "    }\n",
    "]"
   ]
  },
  {
   "cell_type": "code",
   "execution_count": 59,
   "id": "17e3e512",
   "metadata": {},
   "outputs": [
    {
     "name": "stdout",
     "output_type": "stream",
     "text": [
      "[{'Name': 'Dean', 'Score': 100, 'Demons': ['Azazel', 'Abbadon', 'Cain'], 'Spirits': ['Whitman Van Ness', 'Sanford Ellicott']}, {'Name': 'Sam', 'Score': 95, 'Demons': ['Ramiel', 'Alastair', 'Lilith'], 'Spirits': ['Kate Fox', 'Jordan MacNeel']}]\n"
     ]
    }
   ],
   "source": [
    "print(huntings)"
   ]
  },
  {
   "cell_type": "code",
   "execution_count": 60,
   "id": "0089d957",
   "metadata": {},
   "outputs": [
    {
     "name": "stdout",
     "output_type": "stream",
     "text": [
      "{'Name': 'Dean', 'Score': 100, 'Demons': ['Azazel', 'Abbadon', 'Cain'], 'Spirits': ['Whitman Van Ness', 'Sanford Ellicott']}\n"
     ]
    }
   ],
   "source": [
    "print(huntings[0])"
   ]
  },
  {
   "cell_type": "code",
   "execution_count": 62,
   "id": "5baaed3c",
   "metadata": {},
   "outputs": [
    {
     "name": "stdout",
     "output_type": "stream",
     "text": [
      "Dean killed Azazel, Abbadon, Cain\n"
     ]
    }
   ],
   "source": [
    "print(f\"{huntings[0]['Name']} killed {', '.join(huntings[0]['Demons'])}\")"
   ]
  },
  {
   "cell_type": "code",
   "execution_count": 63,
   "id": "c755a051",
   "metadata": {},
   "outputs": [
    {
     "name": "stdout",
     "output_type": "stream",
     "text": [
      "Sam killed Ramiel, Alastair, Lilith\n"
     ]
    }
   ],
   "source": [
    "print(f\"{huntings[1]['Name']} killed {', '.join(huntings[1]['Demons'])}\")"
   ]
  },
  {
   "cell_type": "code",
   "execution_count": 68,
   "id": "2627d22c",
   "metadata": {},
   "outputs": [
    {
     "name": "stdout",
     "output_type": "stream",
     "text": [
      "Dean scored 100\n"
     ]
    }
   ],
   "source": [
    "print(f\"{huntings[0]['Name']} scored {huntings[0]['Score']}\")"
   ]
  },
  {
   "cell_type": "code",
   "execution_count": 69,
   "id": "96d3e39d",
   "metadata": {},
   "outputs": [
    {
     "name": "stdout",
     "output_type": "stream",
     "text": [
      "Sam scored 95\n"
     ]
    }
   ],
   "source": [
    "print(f\"{huntings[1]['Name']} scored {huntings[1]['Score']}\")"
   ]
  },
  {
   "cell_type": "code",
   "execution_count": 73,
   "id": "91e1182d",
   "metadata": {},
   "outputs": [
    {
     "name": "stdout",
     "output_type": "stream",
     "text": [
      "{'country': 'France', 'visits': 12, 'cities': ['Paris', 'Lille', 'Dijon']}\n",
      "{'country': 'Germany', 'visits': 5, 'cities': ['Berlin', 'Hamburg', 'Stuttgart']}\n",
      "{'country': 'United Stated', 'visits': 10, 'cities': ['Illinois', 'Pennsylvania']}\n"
     ]
    }
   ],
   "source": [
    "# Challenge - Adding country to travel_log list by function\n",
    "travel_log = [\n",
    "{\n",
    "  \"country\": \"France\",\n",
    "  \"visits\": 12,\n",
    "  \"cities\": [\"Paris\", \"Lille\", \"Dijon\"]\n",
    "},\n",
    "{\n",
    "  \"country\": \"Germany\",\n",
    "  \"visits\": 5,\n",
    "  \"cities\": [\"Berlin\", \"Hamburg\", \"Stuttgart\"]\n",
    "},\n",
    "]\n",
    "#🚨 Do NOT change the code above\n",
    "\n",
    "#TODO: Write the function that will allow new countries\n",
    "#to be added to the travel_log. 👇\n",
    "\n",
    "def add_new_country(name_of_country, num_of_visits, cities_visited):\n",
    "    travel_log.append({\n",
    "        \"country\": name_of_country,\n",
    "        \"visits\": num_of_visits,\n",
    "        \"cities\": cities_visited\n",
    "        })\n",
    "\n",
    "\n",
    "\n",
    "#🚨 Do not change the code below\n",
    "add_new_country(\"United Stated\", 10, [\"Illinois\", \"Pennsylvania\"])\n",
    "for i in travel_log:\n",
    "    print(i)\n"
   ]
  },
  {
   "cell_type": "markdown",
   "id": "29a03c22",
   "metadata": {},
   "source": [
    "## Blind Auction"
   ]
  },
  {
   "cell_type": "code",
   "execution_count": 103,
   "id": "ac754c1d",
   "metadata": {},
   "outputs": [
    {
     "name": "stdout",
     "output_type": "stream",
     "text": [
      "Sam wins with a bid of $1200\n"
     ]
    }
   ],
   "source": [
    "from IPython.display import clear_output\n",
    "# from os import system as console #Uncomment this line if you are using this script inside terminal\n",
    "bidders = {}\n",
    "\n",
    "def add_bid():\n",
    "    addBidder = True\n",
    "    while addBidder:\n",
    "        name_of_bidder = input(\"Enter your name: \").lower()\n",
    "        if name_of_bidder in bidders:\n",
    "            print(\"You have already bidded!\")\n",
    "            next_bidder = input(\"Is there any other bidder?\\nType yes or no: \").lower()\n",
    "            if next_bidder == \"yes\":\n",
    "#                 console('clear') #Uncomment this line if you are using this script inside terminal\n",
    "                clear_output()\n",
    "            else:\n",
    "                addBidder = False\n",
    "            continue\n",
    "        bid_amount = float(input(\"Enter your bid $\"))\n",
    "        bidders[name_of_bidder] = bid_amount\n",
    "        next_bidder = input(\"Is there any other bidder?\\nType yes or no: \").lower()\n",
    "        if next_bidder == \"yes\":\n",
    "#             console('clear') #Uncomment this line if you are using this script inside terminal\n",
    "            clear_output()\n",
    "        else:\n",
    "            addBidder = False\n",
    "\n",
    "add_bid()\n",
    "highest_bid = 0\n",
    "highest_bidder = \"\"\n",
    "for person in bidders:\n",
    "    if bidders[person] > highest_bid:\n",
    "        highest_bid = bidders[person]\n",
    "        highest_bidder = person.capitalize()\n",
    "# console('clear') #Uncomment this line if you are using this script inside terminal\n",
    "clear_output()\n",
    "print(f\"{highest_bidder} wins with a bid of ${round(highest_bid)}\")"
   ]
  }
 ],
 "metadata": {
  "kernelspec": {
   "display_name": "Python 3 (ipykernel)",
   "language": "python",
   "name": "python3"
  },
  "language_info": {
   "codemirror_mode": {
    "name": "ipython",
    "version": 3
   },
   "file_extension": ".py",
   "mimetype": "text/x-python",
   "name": "python",
   "nbconvert_exporter": "python",
   "pygments_lexer": "ipython3",
   "version": "3.9.12"
  }
 },
 "nbformat": 4,
 "nbformat_minor": 5
}
