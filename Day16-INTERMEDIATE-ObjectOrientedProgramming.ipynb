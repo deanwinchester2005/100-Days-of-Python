{
 "cells": [
  {
   "cell_type": "markdown",
   "id": "fe699b79",
   "metadata": {},
   "source": [
    "# Intermediate - Start"
   ]
  },
  {
   "cell_type": "markdown",
   "id": "bdc9eb41",
   "metadata": {},
   "source": [
    "# Python Pro Bootcamp - Day 16"
   ]
  },
  {
   "cell_type": "markdown",
   "id": "3a2676d0",
   "metadata": {},
   "source": [
    "### OOP - Object Oriented Programming"
   ]
  },
  {
   "cell_type": "code",
   "execution_count": 1,
   "id": "e813241a",
   "metadata": {},
   "outputs": [],
   "source": [
    "# Go to DAY-15 folder and have a look at .py files"
   ]
  }
 ],
 "metadata": {
  "kernelspec": {
   "display_name": "Python 3 (ipykernel)",
   "language": "python",
   "name": "python3"
  },
  "language_info": {
   "codemirror_mode": {
    "name": "ipython",
    "version": 3
   },
   "file_extension": ".py",
   "mimetype": "text/x-python",
   "name": "python",
   "nbconvert_exporter": "python",
   "pygments_lexer": "ipython3",
   "version": "3.9.12"
  }
 },
 "nbformat": 4,
 "nbformat_minor": 5
}
