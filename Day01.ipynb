{
 "cells": [
  {
   "cell_type": "markdown",
   "id": "451587d8",
   "metadata": {},
   "source": [
    "# Python Pro Bootcamp - Day 01"
   ]
  },
  {
   "cell_type": "code",
   "execution_count": 1,
   "id": "77f08b77",
   "metadata": {},
   "outputs": [
    {
     "name": "stdout",
     "output_type": "stream",
     "text": [
      "Hello World!\n"
     ]
    }
   ],
   "source": [
    "print(\"Hello World!\")"
   ]
  },
  {
   "cell_type": "markdown",
   "id": "078fcb30",
   "metadata": {},
   "source": [
    "### Syntax Error"
   ]
  },
  {
   "cell_type": "code",
   "execution_count": 7,
   "id": "d5e88b93",
   "metadata": {},
   "outputs": [
    {
     "ename": "SyntaxError",
     "evalue": "EOL while scanning string literal (2560269361.py, line 1)",
     "output_type": "error",
     "traceback": [
      "\u001b[0;36m  Input \u001b[0;32mIn [7]\u001b[0;36m\u001b[0m\n\u001b[0;31m    print(\"Hello world, I'm dean!)\u001b[0m\n\u001b[0m                                  ^\u001b[0m\n\u001b[0;31mSyntaxError\u001b[0m\u001b[0;31m:\u001b[0m EOL while scanning string literal\n"
     ]
    }
   ],
   "source": [
    "print(\"Hello world, I'm dean!)"
   ]
  },
  {
   "cell_type": "markdown",
   "id": "b994fc48",
   "metadata": {},
   "source": [
    "### Printing multiple lines by one print statement using \"/\""
   ]
  },
  {
   "cell_type": "code",
   "execution_count": 2,
   "id": "80280ccf",
   "metadata": {},
   "outputs": [
    {
     "name": "stdout",
     "output_type": "stream",
     "text": [
      "Hello world!\n",
      "Hello world!\n",
      "Hello world!\n"
     ]
    }
   ],
   "source": [
    "print(\"Hello world!\\nHello world!\\nHello world!\")"
   ]
  },
  {
   "cell_type": "markdown",
   "id": "85fc1132",
   "metadata": {},
   "source": [
    "### Adding two or more strings, known as concatenation"
   ]
  },
  {
   "cell_type": "code",
   "execution_count": 5,
   "id": "36ee89e2",
   "metadata": {},
   "outputs": [
    {
     "name": "stdout",
     "output_type": "stream",
     "text": [
      "Hellodean\n"
     ]
    }
   ],
   "source": [
    "print(\"Hello\" + \"dean\")"
   ]
  },
  {
   "cell_type": "code",
   "execution_count": 6,
   "id": "af4e6a74",
   "metadata": {},
   "outputs": [
    {
     "name": "stdout",
     "output_type": "stream",
     "text": [
      "Hello, I am a winchester\n"
     ]
    }
   ],
   "source": [
    "print(\"Hello, \" + \"I am a winchester\")"
   ]
  },
  {
   "cell_type": "markdown",
   "id": "73aa4e0e",
   "metadata": {},
   "source": [
    "### Indentation Error"
   ]
  },
  {
   "cell_type": "code",
   "execution_count": 16,
   "id": "9cc85f7b",
   "metadata": {},
   "outputs": [
    {
     "ename": "IndentationError",
     "evalue": "unexpected indent (445596296.py, line 2)",
     "output_type": "error",
     "traceback": [
      "\u001b[0;36m  Input \u001b[0;32mIn [16]\u001b[0;36m\u001b[0m\n\u001b[0;31m    print(\"I need some pie!\")\u001b[0m\n\u001b[0m    ^\u001b[0m\n\u001b[0;31mIndentationError\u001b[0m\u001b[0;31m:\u001b[0m unexpected indent\n"
     ]
    }
   ],
   "source": [
    "print(\"I am hungry!\")\n",
    " print(\"I need some pie!\")"
   ]
  },
  {
   "cell_type": "markdown",
   "id": "4e3c0f8c",
   "metadata": {},
   "source": [
    "### Take user input"
   ]
  },
  {
   "cell_type": "code",
   "execution_count": 17,
   "id": "b2b4f64c",
   "metadata": {},
   "outputs": [
    {
     "name": "stdout",
     "output_type": "stream",
     "text": [
      "What is your name?dean Winchester\n",
      "Hello dean Winchester\n"
     ]
    }
   ],
   "source": [
    "print(\"Hello \" + input(\"What is your name?\"))"
   ]
  },
  {
   "cell_type": "markdown",
   "id": "e22756cb",
   "metadata": {},
   "source": [
    "## Variables"
   ]
  },
  {
   "cell_type": "code",
   "execution_count": 18,
   "id": "df6cb6eb",
   "metadata": {},
   "outputs": [
    {
     "name": "stdout",
     "output_type": "stream",
     "text": [
      "Enter your name sam\n"
     ]
    }
   ],
   "source": [
    "variable_name = input(\"Enter your name \")"
   ]
  },
  {
   "cell_type": "code",
   "execution_count": 19,
   "id": "6fab946f",
   "metadata": {},
   "outputs": [
    {
     "name": "stdout",
     "output_type": "stream",
     "text": [
      "sam\n"
     ]
    }
   ],
   "source": [
    "print(variable_name)"
   ]
  },
  {
   "cell_type": "markdown",
   "id": "174b9596",
   "metadata": {},
   "source": [
    "### Name Error"
   ]
  },
  {
   "cell_type": "code",
   "execution_count": 21,
   "id": "9a47cfd6",
   "metadata": {},
   "outputs": [
    {
     "ename": "NameError",
     "evalue": "name 'var' is not defined",
     "output_type": "error",
     "traceback": [
      "\u001b[0;31m---------------------------------------------------------------------------\u001b[0m",
      "\u001b[0;31mNameError\u001b[0m                                 Traceback (most recent call last)",
      "Input \u001b[0;32mIn [21]\u001b[0m, in \u001b[0;36m<cell line: 1>\u001b[0;34m()\u001b[0m\n\u001b[0;32m----> 1\u001b[0m \u001b[38;5;28mprint\u001b[39m(\u001b[43mvar\u001b[49m)\n",
      "\u001b[0;31mNameError\u001b[0m: name 'var' is not defined"
     ]
    }
   ],
   "source": [
    "print(var)"
   ]
  },
  {
   "cell_type": "markdown",
   "id": "4f2099e8",
   "metadata": {},
   "source": [
    "## PROJECT - Band Name Generator"
   ]
  },
  {
   "cell_type": "code",
   "execution_count": 26,
   "id": "e61acc0f",
   "metadata": {},
   "outputs": [
    {
     "name": "stdout",
     "output_type": "stream",
     "text": [
      "Welcome to the band name generator\n",
      "What's the name of city you grew up in?\n",
      "Kansas\n",
      "What's the name of your first pet?\n",
      "Rabbit\n",
      "Your band name could be Kansas Rabbit\n"
     ]
    }
   ],
   "source": [
    "print(\"Welcome to the band name generator\")\n",
    "city_name = input(\"What's the name of city you grew up in?\\n\")\n",
    "pet_name = input(\"What's the name of your first pet?\\n\")\n",
    "print(\"Your band name could be \" + city_name + \" \" + pet_name)"
   ]
  }
 ],
 "metadata": {
  "kernelspec": {
   "display_name": "Python 3 (ipykernel)",
   "language": "python",
   "name": "python3"
  },
  "language_info": {
   "codemirror_mode": {
    "name": "ipython",
    "version": 3
   },
   "file_extension": ".py",
   "mimetype": "text/x-python",
   "name": "python",
   "nbconvert_exporter": "python",
   "pygments_lexer": "ipython3",
   "version": "3.9.12"
  }
 },
 "nbformat": 4,
 "nbformat_minor": 5
}
