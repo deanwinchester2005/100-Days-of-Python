{
 "cells": [
  {
   "cell_type": "markdown",
   "id": "a6196d9d",
   "metadata": {},
   "source": [
    "# Python Pro Bootcamp - Day 10"
   ]
  },
  {
   "cell_type": "markdown",
   "id": "24f3fb0d",
   "metadata": {},
   "source": [
    "## Functions with output"
   ]
  },
  {
   "cell_type": "code",
   "execution_count": 2,
   "id": "a17ee52c",
   "metadata": {},
   "outputs": [],
   "source": [
    "# Syntax\n",
    "# def my_function():\n",
    "#     return something"
   ]
  },
  {
   "cell_type": "code",
   "execution_count": 16,
   "id": "d95b99bb",
   "metadata": {},
   "outputs": [],
   "source": [
    "def format_name(first_name, last_name):\n",
    "    f_name = str(first_name).title()\n",
    "    l_name = str(last_name).title()\n",
    "    capitalised_name = f_name + \" \" + l_name\n",
    "    return capitalised_name"
   ]
  },
  {
   "cell_type": "code",
   "execution_count": 17,
   "id": "f2496c64",
   "metadata": {},
   "outputs": [
    {
     "name": "stdout",
     "output_type": "stream",
     "text": [
      "Dean Winchester\n"
     ]
    }
   ],
   "source": [
    "name = format_name(\"dean\", \"winchester\")\n",
    "print(name)"
   ]
  },
  {
   "cell_type": "code",
   "execution_count": 18,
   "id": "6479c385",
   "metadata": {},
   "outputs": [
    {
     "name": "stdout",
     "output_type": "stream",
     "text": [
      "Sam Winchester\n"
     ]
    }
   ],
   "source": [
    "name = format_name(\"sAm\", \"winCHesteR\")\n",
    "print(name)"
   ]
  },
  {
   "cell_type": "code",
   "execution_count": 19,
   "id": "8e3dd3fe",
   "metadata": {},
   "outputs": [
    {
     "name": "stdout",
     "output_type": "stream",
     "text": [
      "Enter a year: 2005\n",
      "Enter a month: 6\n",
      "30\n"
     ]
    }
   ],
   "source": [
    "# Challenge - Days in a month\n",
    "# You can also use booleans in the return statements of is_leap()\n",
    "def is_leap(year):\n",
    "    if year % 4 == 0:\n",
    "        if year % 100 == 0:\n",
    "            if year % 400 == 0:\n",
    "                return \"Leap year.\"\n",
    "            else:\n",
    "                return \"Not leap year.\"\n",
    "        else:\n",
    "            return \"Leap year.\"\n",
    "    else:\n",
    "        return \"Not leap year.\"\n",
    "\n",
    "def days_in_month(year_in_XXXX_format, month_in_X_format):\n",
    "    month_days = [31, 28, 31, 30, 31, 30, 31, 31, 30, 31, 30, 31]  \n",
    "    is_year_leap = is_leap(year_in_XXXX_format)\n",
    "    if is_year_leap == \"Leap year.\":\n",
    "        month_days[1] = 29\n",
    "        return month_days[month_in_X_format - 1]\n",
    "    return month_days[month_in_X_format - 1]\n",
    "\n",
    "  \n",
    "#🚨 Do NOT change any of the code below \n",
    "year = int(input(\"Enter a year: \"))\n",
    "month = int(input(\"Enter a month: \"))\n",
    "days = days_in_month(year, month)\n",
    "print(days)"
   ]
  },
  {
   "cell_type": "markdown",
   "id": "eeed156b",
   "metadata": {},
   "source": [
    "### docStrings"
   ]
  },
  {
   "cell_type": "code",
   "execution_count": 27,
   "id": "7bce2601",
   "metadata": {},
   "outputs": [],
   "source": [
    "# Press Shift + Tab key to see the documentation of a function and press tab 4 times while holding shift key to see it on pager\n",
    "# We can create docstrings by using triple quotes inside our function definition. String must start on first line of decleration\n",
    "def sqr_root(number):\n",
    "    \"\"\"Returns square root of a given number\n",
    "Made with 💜 by Dean Winchester\"\"\"\n",
    "    return float(number)**0.5"
   ]
  },
  {
   "cell_type": "code",
   "execution_count": 32,
   "id": "0ca8c7dc",
   "metadata": {},
   "outputs": [
    {
     "name": "stdout",
     "output_type": "stream",
     "text": [
      "Returns square root of a given number\n",
      "Made with 💜 by Dean Winchester\n"
     ]
    }
   ],
   "source": [
    "# You can also use method given below to print the documentation of a funtion. It will return None if there is no documentation present\n",
    "print(sqr_root.__doc__)"
   ]
  },
  {
   "cell_type": "code",
   "execution_count": 34,
   "id": "fa8b1083",
   "metadata": {},
   "outputs": [
    {
     "name": "stdout",
     "output_type": "stream",
     "text": [
      "None\n"
     ]
    }
   ],
   "source": [
    "def abcd():\n",
    "    return \"a\"\n",
    "print(abcd.__doc__)"
   ]
  },
  {
   "cell_type": "code",
   "execution_count": 77,
   "id": "9c363c9b",
   "metadata": {},
   "outputs": [
    {
     "name": "stdout",
     "output_type": "stream",
     "text": [
      "Enter the first number: 56\n",
      "+\n",
      "-\n",
      "*\n",
      "/\n",
      "root\n",
      "Which operator do you want to use: root\n",
      "Enter the second number: -1\n",
      "Go screw yourself with imaginary numbers. I will NOT solve this\n"
     ]
    }
   ],
   "source": [
    "# Project - Calculator\n",
    "from IPython.display import clear_output as cls\n",
    "# Add\n",
    "def add(num1, num2):\n",
    "    return num1 + num2\n",
    "\n",
    "# Subtract\n",
    "def subtract(num1, num2):\n",
    "    return num1 - num2\n",
    "\n",
    "# Multiply\n",
    "def multiply(num1, num2):\n",
    "    return num1 * num2\n",
    "\n",
    "# Divide\n",
    "def divide(num1, num2):\n",
    "    return num1 / num2\n",
    "\n",
    "# Square Root\n",
    "def root(num1, num2):\n",
    "    return num1 ** (1 / num2)\n",
    "# Operations\n",
    "# WE CAN STORE FUNCTION NAMES INSIDE DICTIONARY AND CALL IT BY KEY OF THE DICTIONARY! FANTASTIC Isn't it?\n",
    "operations = {\n",
    "    \"+\": add,\n",
    "    \"-\": subtract,\n",
    "    \"*\": multiply,\n",
    "    \"/\": divide,\n",
    "    \"root\": root,\n",
    "}\n",
    "\n",
    "number1 = float(input(\"Enter the first number: \"))\n",
    "while True:\n",
    "    for operator in operations:\n",
    "        print(operator)\n",
    "    user_operator = input(\"Which operator do you want to use: \")\n",
    "    number2 = float(input(\"Enter the second number: \"))\n",
    "    if (user_operator == \"/\" and number2 == 0) or (user_operator == \"root\" and number2 < 1):\n",
    "        print(\"Go screw yourself with imaginary numbers. I will NOT solve this\")\n",
    "        break\n",
    "    result = operations[user_operator](number1, number2)\n",
    "    cls(wait = True)\n",
    "    print(f\"{number1} {user_operator} {number2} = {result}\")\n",
    "    number1 = result\n",
    "    choice = input(f\"Enter y to continue with {result} or n to exit: \").lower()\n",
    "    if choice == \"n\":\n",
    "        break"
   ]
  },
  {
   "cell_type": "code",
   "execution_count": 72,
   "id": "c1ee00bc",
   "metadata": {},
   "outputs": [],
   "source": [
    "# Have you noticed our calculator can do maths now without importing math 😮?\n",
    "# It knows that 2 + 2 equals 4! Its just a big WOW\n",
    "# And yeah it told me to screw myself cause I asked it to divide by zero. Ok that's absolutely fine :/"
   ]
  },
  {
   "cell_type": "code",
   "execution_count": 27,
   "id": "bf2f2dd7",
   "metadata": {
    "scrolled": true
   },
   "outputs": [
    {
     "name": "stdout",
     "output_type": "stream",
     "text": [
      "\n",
      " _____________________\n",
      "|  _________________  |\n",
      "| |Dean Winchester  | |  .----------------.  .----------------.  .----------------.  .----------------. \n",
      "| |_________________| | | .--------------. || .--------------. || .--------------. || .--------------. |\n",
      "|  ___ ___ ___   ___  | | |     ______   | || |      __      | || |   _____      | || |     ______   | |\n",
      "| | 7 | 8 | 9 | | + | | | |   .' ___  |  | || |     /  \\     | || |  |_   _|     | || |   .' ___  |  | |\n",
      "| |___|___|___| |___| | | |  / .'   \\_|  | || |    / /\\ \\    | || |    | |       | || |  / .'   \\_|  | |\n",
      "| | 4 | 5 | 6 | | - | | | |  | |         | || |   / ____ \\   | || |    | |   _   | || |  | |         | |\n",
      "| |___|___|___| |___| | | |  \\ `.___.'\\  | || | _/ /    \\ \\_ | || |   _| |__/ |  | || |  \\ `.___.'\\  | |\n",
      "| | 1 | 2 | 3 | | x | | | |   `._____.'  | || ||____|  |____|| || |  |________|  | || |   `._____.'  | |\n",
      "| |___|___|___| |___| | | |              | || |              | || |              | || |              | |\n",
      "| | . | 0 | = | | / | | | '--------------' || '--------------' || '--------------' || '--------------' |\n",
      "| |___|___|___| |___| |  '----------------'  '----------------'  '----------------'  '----------------' \n",
      "|_____________________|\n",
      "\n",
      "Enter first number: 2\n",
      "+\n",
      "-\n",
      "*\n",
      "/\n",
      "root\n",
      "Which operator do you want to use: root\n",
      "Enter next number: 2\n",
      "2.0 root 2.0 = 1.4142135623730951\n",
      "Enter y to continue with 1.4142135623730951 or n to start new calculator: \n",
      "Enter x to exit: x\n"
     ]
    }
   ],
   "source": [
    "# Project - Calculator\n",
    "logo = \"\"\"\n",
    " _____________________\n",
    "|  _________________  |\n",
    "| |Dean Winchester  | |  .----------------.  .----------------.  .----------------.  .----------------. \n",
    "| |_________________| | | .--------------. || .--------------. || .--------------. || .--------------. |\n",
    "|  ___ ___ ___   ___  | | |     ______   | || |      __      | || |   _____      | || |     ______   | |\n",
    "| | 7 | 8 | 9 | | + | | | |   .' ___  |  | || |     /  \\     | || |  |_   _|     | || |   .' ___  |  | |\n",
    "| |___|___|___| |___| | | |  / .'   \\_|  | || |    / /\\ \\    | || |    | |       | || |  / .'   \\_|  | |\n",
    "| | 4 | 5 | 6 | | - | | | |  | |         | || |   / ____ \\   | || |    | |   _   | || |  | |         | |\n",
    "| |___|___|___| |___| | | |  \\ `.___.'\\  | || | _/ /    \\ \\_ | || |   _| |__/ |  | || |  \\ `.___.'\\  | |\n",
    "| | 1 | 2 | 3 | | x | | | |   `._____.'  | || ||____|  |____|| || |  |________|  | || |   `._____.'  | |\n",
    "| |___|___|___| |___| | | |              | || |              | || |              | || |              | |\n",
    "| | . | 0 | = | | / | | | '--------------' || '--------------' || '--------------' || '--------------' |\n",
    "| |___|___|___| |___| |  '----------------'  '----------------'  '----------------'  '----------------' \n",
    "|_____________________|\n",
    "\"\"\"\n",
    "from IPython.display import clear_output as cls\n",
    "# Add\n",
    "def add(num1, num2):\n",
    "    return num1 + num2\n",
    "\n",
    "# Subtract\n",
    "def subtract(num1, num2):\n",
    "    return num1 - num2\n",
    "\n",
    "# Multiply\n",
    "def multiply(num1, num2):\n",
    "    return num1 * num2\n",
    "\n",
    "# Divide\n",
    "def divide(num1, num2):\n",
    "    if num2 != 0:\n",
    "        return num1 / num2\n",
    "    return\n",
    "\n",
    "# Square Root\n",
    "def root(num1, num2):\n",
    "    if num2 > 0:\n",
    "        return num1 ** (1 / num2)\n",
    "    return\n",
    "\n",
    "# Operations\n",
    "# WE CAN STORE FUNCTION NAMES INSIDE DICTIONARY AND CALL IT BY KEY OF THE DICTIONARY! FANTASTIC Isn't it?\n",
    "operations = {\n",
    "    \"+\": add,\n",
    "    \"-\": subtract,\n",
    "    \"*\": multiply,\n",
    "    \"/\": divide,\n",
    "    \"root\": root,\n",
    "}\n",
    "\n",
    "def calculator():\n",
    "    print(logo)\n",
    "    should_continue = True\n",
    "    number1 = float(input(\"Enter first number: \"))\n",
    "    while should_continue:\n",
    "        for operator in operations:\n",
    "            print(operator)\n",
    "        user_operator = input(\"Which operator do you want to use: \")\n",
    "        number2 = float(input(\"Enter next number: \"))\n",
    "        result = operations[user_operator](number1, number2)\n",
    "        if result == None:\n",
    "            should_continue = False\n",
    "            cls()\n",
    "            print(\"Screw you and screw your imaginary numbers 🥱\")\n",
    "            break\n",
    "#         cls() # Uncomment this line to clear screen after each output\n",
    "        print(f\"{number1} {user_operator} {number2} = {result}\")\n",
    "        choice = input(f\"Enter y to continue with {result} or n to start new calculator: \\nEnter x to exit: \").lower()\n",
    "        number1 = result\n",
    "        if choice == \"n\":\n",
    "            cls()\n",
    "            calculator()\n",
    "        elif choice == \"x\":\n",
    "            should_continue = False\n",
    "calculator()"
   ]
  }
 ],
 "metadata": {
  "kernelspec": {
   "display_name": "Python 3 (ipykernel)",
   "language": "python",
   "name": "python3"
  },
  "language_info": {
   "codemirror_mode": {
    "name": "ipython",
    "version": 3
   },
   "file_extension": ".py",
   "mimetype": "text/x-python",
   "name": "python",
   "nbconvert_exporter": "python",
   "pygments_lexer": "ipython3",
   "version": "3.9.12"
  }
 },
 "nbformat": 4,
 "nbformat_minor": 5
}
