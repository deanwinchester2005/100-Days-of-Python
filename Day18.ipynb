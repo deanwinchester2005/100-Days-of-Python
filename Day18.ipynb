{
 "cells": [
  {
   "cell_type": "markdown",
   "id": "f9ae0e8c",
   "metadata": {},
   "source": [
    "# Python Pro Bootcamp - Day 18"
   ]
  },
  {
   "cell_type": "markdown",
   "id": "e4a268c2",
   "metadata": {},
   "source": [
    "## Turtle Graphics"
   ]
  },
  {
   "cell_type": "markdown",
   "id": "4729eaba",
   "metadata": {},
   "source": [
    "## Tuples"
   ]
  },
  {
   "cell_type": "code",
   "execution_count": 3,
   "id": "a97e8011",
   "metadata": {},
   "outputs": [],
   "source": [
    "# Tuples"
   ]
  },
  {
   "cell_type": "code",
   "execution_count": 17,
   "id": "268c4206",
   "metadata": {},
   "outputs": [],
   "source": [
    "my_tuple = (1, 3, 8, 1, 2, 3, 7, 4, 3, 5, 3)"
   ]
  },
  {
   "cell_type": "code",
   "execution_count": 18,
   "id": "d05f413c",
   "metadata": {},
   "outputs": [
    {
     "data": {
      "text/plain": [
       "1"
      ]
     },
     "execution_count": 18,
     "metadata": {},
     "output_type": "execute_result"
    }
   ],
   "source": [
    "my_tuple[0]"
   ]
  },
  {
   "cell_type": "code",
   "execution_count": 19,
   "id": "7a5fe009",
   "metadata": {},
   "outputs": [
    {
     "data": {
      "text/plain": [
       "8"
      ]
     },
     "execution_count": 19,
     "metadata": {},
     "output_type": "execute_result"
    }
   ],
   "source": [
    "my_tuple[2]"
   ]
  },
  {
   "cell_type": "code",
   "execution_count": 20,
   "id": "e1e13183",
   "metadata": {},
   "outputs": [],
   "source": [
    "# Tuples are Immutable, i.e. values of elements can not be changed"
   ]
  },
  {
   "cell_type": "code",
   "execution_count": 21,
   "id": "21876d4a",
   "metadata": {},
   "outputs": [
    {
     "data": {
      "text/plain": [
       "2"
      ]
     },
     "execution_count": 21,
     "metadata": {},
     "output_type": "execute_result"
    }
   ],
   "source": [
    "my_tuple.index(8)"
   ]
  },
  {
   "cell_type": "code",
   "execution_count": 23,
   "id": "cba11002",
   "metadata": {},
   "outputs": [
    {
     "data": {
      "text/plain": [
       "4"
      ]
     },
     "execution_count": 23,
     "metadata": {},
     "output_type": "execute_result"
    }
   ],
   "source": [
    "my_tuple.count(3)"
   ]
  },
  {
   "cell_type": "code",
   "execution_count": 2,
   "id": "79e2baf9",
   "metadata": {},
   "outputs": [],
   "source": [
    "# Go inside projects folder and run main.py located in Turtle graphics folder"
   ]
  }
 ],
 "metadata": {
  "kernelspec": {
   "display_name": "Python 3 (ipykernel)",
   "language": "python",
   "name": "python3"
  },
  "language_info": {
   "codemirror_mode": {
    "name": "ipython",
    "version": 3
   },
   "file_extension": ".py",
   "mimetype": "text/x-python",
   "name": "python",
   "nbconvert_exporter": "python",
   "pygments_lexer": "ipython3",
   "version": "3.9.12"
  }
 },
 "nbformat": 4,
 "nbformat_minor": 5
}
