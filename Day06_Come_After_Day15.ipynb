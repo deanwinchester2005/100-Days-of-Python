{
 "cells": [
  {
   "cell_type": "markdown",
   "metadata": {},
   "source": [
    "# Python Pro Bootcamp - Day 06"
   ]
  },
  {
   "cell_type": "markdown",
   "metadata": {},
   "source": [
    "## Functions"
   ]
  },
  {
   "cell_type": "markdown",
   "metadata": {},
   "source": [
    "#### Defining a function\n",
    "    def my_function():\n",
    "        #Do this\n",
    "        #Then do this\n",
    "        #Finally do this"
   ]
  },
  {
   "cell_type": "markdown",
   "metadata": {},
   "source": [
    "#### Calling a function\n",
    "    my_function()"
   ]
  },
  {
   "cell_type": "code",
   "execution_count": 1,
   "metadata": {},
   "outputs": [
    {
     "data": {
      "text/plain": [
       "True"
      ]
     },
     "execution_count": 1,
     "metadata": {},
     "output_type": "execute_result"
    }
   ],
   "source": [
    "import virtual_library , webbrowser\n",
    "# Run this cell or Press Shift + Enter key inside to open Reeborg's world\n",
    "webbrowser.open(virtual_library.reeborgs_world)"
   ]
  },
  {
   "cell_type": "markdown",
   "metadata": {},
   "source": [
    "### You can uncomment a cell by pressing \"ctrl + / \" inside the cell after selecting all the text"
   ]
  },
  {
   "cell_type": "code",
   "execution_count": 11,
   "metadata": {},
   "outputs": [],
   "source": [
    "# #Code for Reeborg's world\n",
    "# def turn_right():\n",
    "#     turn_left()\n",
    "#     turn_left()\n",
    "#     turn_left()\n",
    "\n",
    "# # Challenge - Code to make a square \n",
    "#   # turn_left()\n",
    "#   # move()\n",
    "#   # turn_right()\n",
    "#   # move()\n",
    "#   # turn_right()\n",
    "#   # move()\n",
    "#   # turn_right()\n",
    "#   # move()\n"
   ]
  },
  {
   "cell_type": "code",
   "execution_count": 6,
   "metadata": {},
   "outputs": [],
   "source": [
    "\n",
    "# # Challenge - Hurdle 1\n",
    "# def turn_right():\n",
    "#     turn_left()\n",
    "#     turn_left()\n",
    "#     turn_left()\n",
    "# def jump():\n",
    "#     turn_left()\n",
    "#     move()\n",
    "#     turn_right()\n",
    "#     move()\n",
    "#     turn_right()\n",
    "#     move()\n",
    "# turn_left()\n",
    "# for obstacle in range(6):\n",
    "#     move()\n",
    "#     jump()"
   ]
  },
  {
   "cell_type": "markdown",
   "metadata": {},
   "source": [
    "### while Loop"
   ]
  },
  {
   "cell_type": "code",
   "execution_count": 1,
   "metadata": {},
   "outputs": [],
   "source": [
    "#  Syntax\n",
    "# while something_is_true:\n",
    "    # Do this\n",
    "    # Then do this\n",
    "    # Then do this"
   ]
  },
  {
   "cell_type": "code",
   "execution_count": 8,
   "metadata": {},
   "outputs": [],
   "source": [
    "# # Challenge - Hurdle 2\n",
    "# def turn_right():\n",
    "#     turn_left()\n",
    "#     turn_left()\n",
    "#     turn_left()\n",
    "# def jump():\n",
    "#     turn_left()\n",
    "#     move()\n",
    "#     turn_right()\n",
    "#     move()\n",
    "#     turn_right()\n",
    "#     move()\n",
    "#     turn_left()\n",
    "# while not at_goal():\n",
    "#     move()\n",
    "#     jump()\n",
    "    "
   ]
  },
  {
   "cell_type": "code",
   "execution_count": 9,
   "metadata": {},
   "outputs": [],
   "source": [
    "# # Challenge - Hurdle 3\n",
    "# def turn_right():\n",
    "#     turn_left()\n",
    "#     turn_left()\n",
    "#     turn_left()\n",
    "# def jump():\n",
    "#     turn_left()\n",
    "#     move()\n",
    "#     turn_right()\n",
    "#     move()\n",
    "#     turn_right()\n",
    "#     move()\n",
    "#     turn_left()\n",
    "# while not at_goal():\n",
    "#     while front_is_clear() and not at_goal():\n",
    "#         move()\n",
    "#     if wall_in_front():\n",
    "#         jump()\n",
    "    "
   ]
  },
  {
   "cell_type": "code",
   "execution_count": 12,
   "metadata": {},
   "outputs": [],
   "source": [
    "# # Challenge - Hurdle 4\n",
    "# def turn_right():\n",
    "#     turn_left()\n",
    "#     turn_left()\n",
    "#     turn_left()\n",
    "# def go_right():# Go in shape of Mirror of L\n",
    "#     turn_right()\n",
    "#     move()\n",
    "#     turn_right()\n",
    "#     move()\n",
    "# while not at_goal():\n",
    "#     if right_is_clear():\n",
    "#         go_right()\n",
    "#     elif front_is_clear():\n",
    "#         move()\n",
    "#     elif wall_in_front() and wall_on_right():\n",
    "#         turn_left()"
   ]
  },
  {
   "cell_type": "markdown",
   "metadata": {},
   "source": [
    "### Project - Reeborg's world Maze"
   ]
  },
  {
   "cell_type": "code",
   "execution_count": 13,
   "metadata": {},
   "outputs": [],
   "source": [
    "# def turn_right():\n",
    "#     turn_left()\n",
    "#     turn_left()\n",
    "#     turn_left()\n",
    "# while not at_goal():\n",
    "#     if right_is_clear():\n",
    "#         turn_right()\n",
    "#         move()\n",
    "#     elif front_is_clear():\n",
    "#         move()\n",
    "#     elif wall_in_front and wall_on_right():\n",
    "#         turn_left()\n",
    "#     else:\n",
    "#         move()"
   ]
  }
 ],
 "metadata": {
  "interpreter": {
   "hash": "8a8e04bd2abe738a25956123454e2884e26389eda4cbda4f4e96fdd3dbb1d304"
  },
  "kernelspec": {
   "display_name": "Python 3 (ipykernel)",
   "language": "python",
   "name": "python3"
  },
  "language_info": {
   "codemirror_mode": {
    "name": "ipython",
    "version": 3
   },
   "file_extension": ".py",
   "mimetype": "text/x-python",
   "name": "python",
   "nbconvert_exporter": "python",
   "pygments_lexer": "ipython3",
   "version": "3.9.12"
  }
 },
 "nbformat": 4,
 "nbformat_minor": 2
}
