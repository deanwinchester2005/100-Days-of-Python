{
 "cells": [
  {
   "cell_type": "markdown",
   "id": "0d82b219",
   "metadata": {},
   "source": [
    "# Python Pro Bootcamp - Day 14"
   ]
  },
  {
   "cell_type": "markdown",
   "id": "e70c18b0",
   "metadata": {},
   "source": [
    "### Project - Higher Lower Game"
   ]
  },
  {
   "cell_type": "code",
   "execution_count": null,
   "id": "8fb5ff34",
   "metadata": {},
   "outputs": [],
   "source": [
    "# Go into the Projects folder and then run main.py inside Higher Lower Game Folder"
   ]
  }
 ],
 "metadata": {
  "kernelspec": {
   "display_name": "Python 3 (ipykernel)",
   "language": "python",
   "name": "python3"
  },
  "language_info": {
   "codemirror_mode": {
    "name": "ipython",
    "version": 3
   },
   "file_extension": ".py",
   "mimetype": "text/x-python",
   "name": "python",
   "nbconvert_exporter": "python",
   "pygments_lexer": "ipython3",
   "version": "3.9.12"
  }
 },
 "nbformat": 4,
 "nbformat_minor": 5
}
