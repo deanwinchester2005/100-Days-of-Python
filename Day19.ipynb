{
 "cells": [
  {
   "cell_type": "markdown",
   "id": "f9ae0e8c",
   "metadata": {},
   "source": [
    "# Python Pro Bootcamp - Day 19"
   ]
  },
  {
   "cell_type": "markdown",
   "id": "e4a268c2",
   "metadata": {},
   "source": [
    "## Higher Order Functions & Event Listeners"
   ]
  },
  {
   "cell_type": "code",
   "execution_count": 7,
   "id": "c740e78c",
   "metadata": {},
   "outputs": [],
   "source": [
    "# When we use function as a input then it must not contain parenthesis because it will trigger the function to execute instantly\n",
    "# def func_a(something):\n",
    "#     # Do this with something\n",
    "#     # Do this\n",
    "# def func_b():\n",
    "#     # Do that\n",
    "# func_a(func_b) # Here we will not use func_b() because if we do so then it will be executed instantly as interpreter comes to this line"
   ]
  },
  {
   "cell_type": "code",
   "execution_count": 8,
   "id": "5272c509",
   "metadata": {},
   "outputs": [],
   "source": [
    "# Go Inside Day 19 folder and have a look around"
   ]
  }
 ],
 "metadata": {
  "kernelspec": {
   "display_name": "Python 3 (ipykernel)",
   "language": "python",
   "name": "python3"
  },
  "language_info": {
   "codemirror_mode": {
    "name": "ipython",
    "version": 3
   },
   "file_extension": ".py",
   "mimetype": "text/x-python",
   "name": "python",
   "nbconvert_exporter": "python",
   "pygments_lexer": "ipython3",
   "version": "3.9.12"
  }
 },
 "nbformat": 4,
 "nbformat_minor": 5
}
