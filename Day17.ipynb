{
 "cells": [
  {
   "cell_type": "markdown",
   "id": "f9ae0e8c",
   "metadata": {},
   "source": [
    "# Python Pro Bootcamp - Day 17"
   ]
  },
  {
   "cell_type": "code",
   "execution_count": 2,
   "id": "3b16a086",
   "metadata": {},
   "outputs": [],
   "source": [
    "# Class is a Blueprint"
   ]
  },
  {
   "cell_type": "code",
   "execution_count": 3,
   "id": "efebc934",
   "metadata": {},
   "outputs": [],
   "source": [
    "# Creating classes"
   ]
  },
  {
   "cell_type": "code",
   "execution_count": 4,
   "id": "bcdf857f",
   "metadata": {},
   "outputs": [],
   "source": [
    "class User:\n",
    "    pass"
   ]
  },
  {
   "cell_type": "code",
   "execution_count": 7,
   "id": "e58f6fc8",
   "metadata": {},
   "outputs": [],
   "source": [
    "user1 = User()\n",
    "user1.id = \"001\"\n",
    "user1.username = \"sam\""
   ]
  },
  {
   "cell_type": "code",
   "execution_count": null,
   "id": "a1a0331e",
   "metadata": {},
   "outputs": [],
   "source": []
  },
  {
   "cell_type": "code",
   "execution_count": 8,
   "id": "9371521d",
   "metadata": {},
   "outputs": [
    {
     "name": "stdout",
     "output_type": "stream",
     "text": [
      "sam\n"
     ]
    }
   ],
   "source": [
    "print(user1.username)"
   ]
  },
  {
   "cell_type": "code",
   "execution_count": 19,
   "id": "535689de",
   "metadata": {},
   "outputs": [],
   "source": [
    "class User:\n",
    "    def __init__(self, userid, username):\n",
    "        self.id = userid\n",
    "        self.username = username\n",
    "        self.followers = 0"
   ]
  },
  {
   "cell_type": "code",
   "execution_count": 11,
   "id": "933b374d",
   "metadata": {},
   "outputs": [
    {
     "ename": "TypeError",
     "evalue": "__init__() missing 2 required positional arguments: 'userid' and 'username'",
     "output_type": "error",
     "traceback": [
      "\u001b[0;31m---------------------------------------------------------------------------\u001b[0m",
      "\u001b[0;31mTypeError\u001b[0m                                 Traceback (most recent call last)",
      "Input \u001b[0;32mIn [11]\u001b[0m, in \u001b[0;36m<cell line: 1>\u001b[0;34m()\u001b[0m\n\u001b[0;32m----> 1\u001b[0m user1 \u001b[38;5;241m=\u001b[39m \u001b[43mUser\u001b[49m\u001b[43m(\u001b[49m\u001b[43m)\u001b[49m\n",
      "\u001b[0;31mTypeError\u001b[0m: __init__() missing 2 required positional arguments: 'userid' and 'username'"
     ]
    }
   ],
   "source": [
    "user1 = User()# Parameters with no default value must be passed when creating an object."
   ]
  },
  {
   "cell_type": "code",
   "execution_count": 12,
   "id": "c457c1e4",
   "metadata": {},
   "outputs": [],
   "source": [
    "user1 = User(\"001\", \"Sam\")"
   ]
  },
  {
   "cell_type": "code",
   "execution_count": 13,
   "id": "2decc994",
   "metadata": {},
   "outputs": [
    {
     "name": "stdout",
     "output_type": "stream",
     "text": [
      "001\n",
      "Sam\n",
      "0\n"
     ]
    }
   ],
   "source": [
    "print(user1.id)\n",
    "print(user1.username)\n",
    "print(user1.followers)"
   ]
  },
  {
   "cell_type": "code",
   "execution_count": 14,
   "id": "fb5fe660",
   "metadata": {},
   "outputs": [],
   "source": [
    "user1.followers = 9000000"
   ]
  },
  {
   "cell_type": "code",
   "execution_count": 15,
   "id": "c415e562",
   "metadata": {},
   "outputs": [
    {
     "name": "stdout",
     "output_type": "stream",
     "text": [
      "Sam has now 9000000 followers!\n"
     ]
    }
   ],
   "source": [
    "print(f\"{user1.username} has now {user1.followers} followers!\")"
   ]
  },
  {
   "cell_type": "code",
   "execution_count": 16,
   "id": "97419358",
   "metadata": {},
   "outputs": [],
   "source": [
    "user2 = User(\"000\", \"Castiel\")"
   ]
  },
  {
   "cell_type": "code",
   "execution_count": 17,
   "id": "bf2f1c5a",
   "metadata": {},
   "outputs": [
    {
     "name": "stdout",
     "output_type": "stream",
     "text": [
      "<__main__.User object at 0x7f419dcfeeb0>\n"
     ]
    }
   ],
   "source": [
    "print(user2)"
   ]
  },
  {
   "cell_type": "code",
   "execution_count": 18,
   "id": "50e027da",
   "metadata": {},
   "outputs": [
    {
     "name": "stdout",
     "output_type": "stream",
     "text": [
      "Castiel\n"
     ]
    }
   ],
   "source": [
    "print(user2.username)"
   ]
  },
  {
   "cell_type": "code",
   "execution_count": 20,
   "id": "6c211b44",
   "metadata": {},
   "outputs": [],
   "source": [
    "class User:\n",
    "    def __init__(self, userid, username):\n",
    "        self.id = userid\n",
    "        self.username = username\n",
    "        self.followers = 0\n",
    "        self.following = 0\n",
    "    def follow(self, user):\n",
    "        self.following += 1\n",
    "        user.followers += 1"
   ]
  },
  {
   "cell_type": "code",
   "execution_count": 21,
   "id": "0824ee6d",
   "metadata": {},
   "outputs": [],
   "source": [
    "user1 = User(\"001\", \"Dean\")\n",
    "user2 = User(\"002\", \"Sam\")"
   ]
  },
  {
   "cell_type": "code",
   "execution_count": 22,
   "id": "e00b2598",
   "metadata": {},
   "outputs": [],
   "source": [
    "user2.follow(user1)"
   ]
  },
  {
   "cell_type": "code",
   "execution_count": 24,
   "id": "0ad9f41c",
   "metadata": {},
   "outputs": [
    {
     "name": "stdout",
     "output_type": "stream",
     "text": [
      "1\n",
      "0\n",
      "0\n",
      "1\n"
     ]
    }
   ],
   "source": [
    "print(user1.followers)# Dean has now 1 follower\n",
    "print(user1.following)# Dean is following no one\n",
    "print(user2.followers)# Sam has no followers\n",
    "print(user2.following)# Sam is following dean"
   ]
  },
  {
   "cell_type": "code",
   "execution_count": 25,
   "id": "45293e73",
   "metadata": {},
   "outputs": [],
   "source": [
    "# Quiz Project - Go inside projects folder and run main.py located in Quiz Game folder"
   ]
  }
 ],
 "metadata": {
  "kernelspec": {
   "display_name": "Python 3 (ipykernel)",
   "language": "python",
   "name": "python3"
  },
  "language_info": {
   "codemirror_mode": {
    "name": "ipython",
    "version": 3
   },
   "file_extension": ".py",
   "mimetype": "text/x-python",
   "name": "python",
   "nbconvert_exporter": "python",
   "pygments_lexer": "ipython3",
   "version": "3.9.12"
  }
 },
 "nbformat": 4,
 "nbformat_minor": 5
}
