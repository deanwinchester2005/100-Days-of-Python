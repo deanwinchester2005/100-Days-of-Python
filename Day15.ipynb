{
 "cells": [
  {
   "cell_type": "markdown",
   "id": "8e807495",
   "metadata": {},
   "source": [
    "# Python Pro Bootcamp - Day 15"
   ]
  },
  {
   "cell_type": "code",
   "execution_count": 1,
   "id": "4e5848e8",
   "metadata": {},
   "outputs": [],
   "source": [
    "# Go inside projects folder and run main.py located inside Coffee Machine project"
   ]
  }
 ],
 "metadata": {
  "kernelspec": {
   "display_name": "Python 3 (ipykernel)",
   "language": "python",
   "name": "python3"
  },
  "language_info": {
   "codemirror_mode": {
    "name": "ipython",
    "version": 3
   },
   "file_extension": ".py",
   "mimetype": "text/x-python",
   "name": "python",
   "nbconvert_exporter": "python",
   "pygments_lexer": "ipython3",
   "version": "3.9.12"
  }
 },
 "nbformat": 4,
 "nbformat_minor": 5
}
