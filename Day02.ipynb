{
 "cells": [
  {
   "cell_type": "markdown",
   "id": "3cc13a20",
   "metadata": {},
   "source": [
    "# Python Pro Bootcamp - Day 02"
   ]
  },
  {
   "cell_type": "markdown",
   "id": "f7912ea6",
   "metadata": {},
   "source": [
    "### Type Error"
   ]
  },
  {
   "cell_type": "code",
   "execution_count": 1,
   "id": "1d31e064",
   "metadata": {},
   "outputs": [
    {
     "ename": "TypeError",
     "evalue": "object of type 'int' has no len()",
     "output_type": "error",
     "traceback": [
      "\u001b[0;31m---------------------------------------------------------------------------\u001b[0m",
      "\u001b[0;31mTypeError\u001b[0m                                 Traceback (most recent call last)",
      "Input \u001b[0;32mIn [1]\u001b[0m, in \u001b[0;36m<cell line: 1>\u001b[0;34m()\u001b[0m\n\u001b[0;32m----> 1\u001b[0m \u001b[38;5;28mprint\u001b[39m(\u001b[38;5;28;43mlen\u001b[39;49m\u001b[43m(\u001b[49m\u001b[38;5;241;43m12345\u001b[39;49m\u001b[43m)\u001b[49m)\n",
      "\u001b[0;31mTypeError\u001b[0m: object of type 'int' has no len()"
     ]
    }
   ],
   "source": [
    "print(len(12345))"
   ]
  },
  {
   "cell_type": "markdown",
   "id": "529939e9",
   "metadata": {},
   "source": [
    "## Data Types"
   ]
  },
  {
   "cell_type": "markdown",
   "id": "37e0283c",
   "metadata": {},
   "source": [
    "### 1. Strings"
   ]
  },
  {
   "cell_type": "code",
   "execution_count": 4,
   "id": "d1b1c274",
   "metadata": {},
   "outputs": [],
   "source": [
    "string = \"Hello\""
   ]
  },
  {
   "cell_type": "markdown",
   "id": "cb3a08b9",
   "metadata": {},
   "source": [
    "### Subscripting"
   ]
  },
  {
   "cell_type": "code",
   "execution_count": 5,
   "id": "ba89379f",
   "metadata": {},
   "outputs": [
    {
     "name": "stdout",
     "output_type": "stream",
     "text": [
      "H\n"
     ]
    }
   ],
   "source": [
    "# We can get access to specific elements of string by passing the position or Index of our element\n",
    "print(string[0])"
   ]
  },
  {
   "cell_type": "code",
   "execution_count": 6,
   "id": "ba2834bf",
   "metadata": {},
   "outputs": [
    {
     "name": "stdout",
     "output_type": "stream",
     "text": [
      "o\n"
     ]
    }
   ],
   "source": [
    "print(string[4])"
   ]
  },
  {
   "cell_type": "markdown",
   "id": "b00c631e",
   "metadata": {},
   "source": [
    "### 2. Integers"
   ]
  },
  {
   "cell_type": "code",
   "execution_count": 7,
   "id": "82d40561",
   "metadata": {},
   "outputs": [],
   "source": [
    "num = 2685"
   ]
  },
  {
   "cell_type": "code",
   "execution_count": 8,
   "id": "80559b16",
   "metadata": {},
   "outputs": [
    {
     "name": "stdout",
     "output_type": "stream",
     "text": [
      "27\n"
     ]
    }
   ],
   "source": [
    "print(12 + 15)"
   ]
  },
  {
   "cell_type": "markdown",
   "id": "9587d8b7",
   "metadata": {},
   "source": [
    "### We can seperate numbers by \"_\" for our understanding but computer will ignore it"
   ]
  },
  {
   "cell_type": "code",
   "execution_count": 16,
   "id": "c479574f",
   "metadata": {},
   "outputs": [],
   "source": [
    "number = 123_456_789"
   ]
  },
  {
   "cell_type": "code",
   "execution_count": 17,
   "id": "7c5dfab8",
   "metadata": {},
   "outputs": [
    {
     "name": "stdout",
     "output_type": "stream",
     "text": [
      "123456789\n"
     ]
    }
   ],
   "source": [
    "print(number)"
   ]
  },
  {
   "cell_type": "markdown",
   "id": "390e263d",
   "metadata": {},
   "source": [
    "### 3. Floats"
   ]
  },
  {
   "cell_type": "code",
   "execution_count": 24,
   "id": "b7019e68",
   "metadata": {},
   "outputs": [],
   "source": [
    "var = 3.14159"
   ]
  },
  {
   "cell_type": "code",
   "execution_count": 25,
   "id": "01c09811",
   "metadata": {},
   "outputs": [
    {
     "name": "stdout",
     "output_type": "stream",
     "text": [
      "3.14159\n"
     ]
    }
   ],
   "source": [
    "print(var)"
   ]
  },
  {
   "cell_type": "markdown",
   "id": "a2b2a71d",
   "metadata": {},
   "source": [
    "### 4. Booleans"
   ]
  },
  {
   "cell_type": "code",
   "execution_count": 26,
   "id": "ffd7a6d4",
   "metadata": {},
   "outputs": [],
   "source": [
    "# There are only two possible values of Booleans, that are True and False\n",
    "alpha = True\n",
    "beta = False"
   ]
  },
  {
   "cell_type": "code",
   "execution_count": 35,
   "id": "65c1bb3c",
   "metadata": {},
   "outputs": [
    {
     "name": "stdout",
     "output_type": "stream",
     "text": [
      "True\n"
     ]
    }
   ],
   "source": [
    "print(alpha)"
   ]
  },
  {
   "cell_type": "code",
   "execution_count": 36,
   "id": "a38c4c69",
   "metadata": {},
   "outputs": [
    {
     "name": "stdout",
     "output_type": "stream",
     "text": [
      "False\n"
     ]
    }
   ],
   "source": [
    "print(beta)"
   ]
  },
  {
   "cell_type": "markdown",
   "id": "e7e45534",
   "metadata": {},
   "source": [
    "### Getting the data type of an object by type() function"
   ]
  },
  {
   "cell_type": "code",
   "execution_count": 37,
   "id": "568d610b",
   "metadata": {},
   "outputs": [
    {
     "name": "stdout",
     "output_type": "stream",
     "text": [
      "<class 'str'>\n"
     ]
    }
   ],
   "source": [
    "print(type(\"name\"))"
   ]
  },
  {
   "cell_type": "code",
   "execution_count": 38,
   "id": "9a3dd3f4",
   "metadata": {},
   "outputs": [
    {
     "name": "stdout",
     "output_type": "stream",
     "text": [
      "<class 'int'>\n"
     ]
    }
   ],
   "source": [
    "print(type(123))"
   ]
  },
  {
   "cell_type": "code",
   "execution_count": 39,
   "id": "2be10584",
   "metadata": {},
   "outputs": [
    {
     "name": "stdout",
     "output_type": "stream",
     "text": [
      "<class 'float'>\n"
     ]
    }
   ],
   "source": [
    "print(type(1.2))"
   ]
  },
  {
   "cell_type": "markdown",
   "id": "6b042f0c",
   "metadata": {},
   "source": [
    "### We can not add an integer to a string. If we do so, then we will get a type error"
   ]
  },
  {
   "cell_type": "code",
   "execution_count": 41,
   "id": "36938c62",
   "metadata": {},
   "outputs": [
    {
     "ename": "TypeError",
     "evalue": "can only concatenate str (not \"int\") to str",
     "output_type": "error",
     "traceback": [
      "\u001b[0;31m---------------------------------------------------------------------------\u001b[0m",
      "\u001b[0;31mTypeError\u001b[0m                                 Traceback (most recent call last)",
      "Input \u001b[0;32mIn [41]\u001b[0m, in \u001b[0;36m<cell line: 1>\u001b[0;34m()\u001b[0m\n\u001b[0;32m----> 1\u001b[0m \u001b[38;5;28mprint\u001b[39m(\u001b[38;5;124;43m\"\u001b[39;49m\u001b[38;5;124;43mhello\u001b[39;49m\u001b[38;5;124;43m\"\u001b[39;49m\u001b[43m \u001b[49m\u001b[38;5;241;43m+\u001b[39;49m\u001b[43m \u001b[49m\u001b[38;5;241;43m123\u001b[39;49m)\n",
      "\u001b[0;31mTypeError\u001b[0m: can only concatenate str (not \"int\") to str"
     ]
    }
   ],
   "source": [
    "print(\"hello\" + 123)"
   ]
  },
  {
   "cell_type": "markdown",
   "id": "da544aca",
   "metadata": {},
   "source": [
    "## Type Casting or Type Conversion\n",
    "### The process of converting the value of one data type (integer, string, float, etc.) to another data type is called type conversion"
   ]
  },
  {
   "cell_type": "code",
   "execution_count": 43,
   "id": "16e8d5dc",
   "metadata": {},
   "outputs": [],
   "source": [
    "num = 123"
   ]
  },
  {
   "cell_type": "code",
   "execution_count": 44,
   "id": "210d956d",
   "metadata": {},
   "outputs": [
    {
     "name": "stdout",
     "output_type": "stream",
     "text": [
      "<class 'int'>\n"
     ]
    }
   ],
   "source": [
    "print(type(num))"
   ]
  },
  {
   "cell_type": "code",
   "execution_count": 45,
   "id": "8c82f140",
   "metadata": {},
   "outputs": [],
   "source": [
    "num_string = str(num)"
   ]
  },
  {
   "cell_type": "code",
   "execution_count": 46,
   "id": "d579273b",
   "metadata": {},
   "outputs": [
    {
     "name": "stdout",
     "output_type": "stream",
     "text": [
      "123\n"
     ]
    }
   ],
   "source": [
    "print(num_string)"
   ]
  },
  {
   "cell_type": "code",
   "execution_count": 47,
   "id": "eae45957",
   "metadata": {},
   "outputs": [
    {
     "name": "stdout",
     "output_type": "stream",
     "text": [
      "<class 'str'>\n"
     ]
    }
   ],
   "source": [
    "print(type(num_string))"
   ]
  },
  {
   "cell_type": "code",
   "execution_count": 48,
   "id": "b2da2c0d",
   "metadata": {},
   "outputs": [
    {
     "name": "stdout",
     "output_type": "stream",
     "text": [
      "123456\n"
     ]
    }
   ],
   "source": [
    "print(str(123) + str(456))"
   ]
  },
  {
   "cell_type": "code",
   "execution_count": 49,
   "id": "906adb86",
   "metadata": {},
   "outputs": [
    {
     "name": "stdout",
     "output_type": "stream",
     "text": [
      "68.3\n"
     ]
    }
   ],
   "source": [
    "print(12 + float(\"56.3\"))"
   ]
  },
  {
   "cell_type": "code",
   "execution_count": 50,
   "id": "bd4abbb5",
   "metadata": {},
   "outputs": [
    {
     "name": "stdout",
     "output_type": "stream",
     "text": [
      "9.0\n"
     ]
    }
   ],
   "source": [
    "print(float(9))"
   ]
  },
  {
   "cell_type": "markdown",
   "id": "db62defe",
   "metadata": {},
   "source": [
    "### Mathematical Operators"
   ]
  },
  {
   "cell_type": "code",
   "execution_count": 52,
   "id": "d795768d",
   "metadata": {},
   "outputs": [
    {
     "name": "stdout",
     "output_type": "stream",
     "text": [
      "4\n"
     ]
    }
   ],
   "source": [
    "# \"+\" operator returns sum\n",
    "print(2 + 2)"
   ]
  },
  {
   "cell_type": "code",
   "execution_count": 53,
   "id": "b0d1e343",
   "metadata": {},
   "outputs": [
    {
     "name": "stdout",
     "output_type": "stream",
     "text": [
      "3\n"
     ]
    }
   ],
   "source": [
    "# \"-\" operator returns substraction\n",
    "print(9 - 6)"
   ]
  },
  {
   "cell_type": "code",
   "execution_count": 54,
   "id": "bd836ad4",
   "metadata": {},
   "outputs": [
    {
     "name": "stdout",
     "output_type": "stream",
     "text": [
      "18\n"
     ]
    }
   ],
   "source": [
    "# \"*\" operator returns multiplication\n",
    "print(2*9)"
   ]
  },
  {
   "cell_type": "code",
   "execution_count": 57,
   "id": "dfead5ab",
   "metadata": {},
   "outputs": [
    {
     "name": "stdout",
     "output_type": "stream",
     "text": [
      "3.0\n"
     ]
    }
   ],
   "source": [
    "# \"/\" operator returns a float after dividing\n",
    "print(6/2)"
   ]
  },
  {
   "cell_type": "code",
   "execution_count": 59,
   "id": "b1fd58cf",
   "metadata": {},
   "outputs": [
    {
     "name": "stdout",
     "output_type": "stream",
     "text": [
      "8\n"
     ]
    }
   ],
   "source": [
    "# \"**\" operator returns exponent which is first number to the power of second\n",
    "# For example 2**3 will return 2 raised to the power 3 which is 8\n",
    "print(2**3)"
   ]
  },
  {
   "cell_type": "markdown",
   "id": "1c9037b5",
   "metadata": {},
   "source": [
    "### Mathematical Operations follow PEMDASLR\n",
    "### 1. Parenthesis\n",
    "### 2. Exponentiation\n",
    "### 3. Multiplication\n",
    "### 4. Division\n",
    "### 5. Addition\n",
    "### 6. Substraction\n",
    "### Order of Priority is :\n",
    "### ()\n",
    "### **\n",
    "### * / ---> Both are equally important\n",
    "### + - ---> Both are equally important\n",
    "### Code is executed from left to right"
   ]
  },
  {
   "cell_type": "code",
   "execution_count": 62,
   "id": "e951c2ac",
   "metadata": {},
   "outputs": [
    {
     "name": "stdout",
     "output_type": "stream",
     "text": [
      "40.0\n"
     ]
    }
   ],
   "source": [
    "print((2+3)**2*4/5+30-10)\n",
    "\n",
    "# Steps Involved --->\n",
    "# print(5**2*4/5+30-10)\n",
    "# print(25*4/5+30-10)\n",
    "# print(100/5+30-10)\n",
    "# print(20.0+30-10)\n",
    "# print(50.0-10)\n",
    "# print(40.0)"
   ]
  },
  {
   "cell_type": "code",
   "execution_count": 64,
   "id": "ff204229",
   "metadata": {},
   "outputs": [
    {
     "name": "stdout",
     "output_type": "stream",
     "text": [
      "7.0\n"
     ]
    }
   ],
   "source": [
    "print(3 * 3 + 3 / 3 - 3)"
   ]
  },
  {
   "cell_type": "code",
   "execution_count": 66,
   "id": "a377b49e",
   "metadata": {},
   "outputs": [
    {
     "name": "stdout",
     "output_type": "stream",
     "text": [
      "3.0\n"
     ]
    }
   ],
   "source": [
    "# Challenge ---> Make changes in \"print(3 * 3 + 3 / 3 - 3)\" so that result is 3 instead of 7\n",
    "print(3 * (3 + 3) / 3 - 3)"
   ]
  },
  {
   "cell_type": "markdown",
   "id": "a69ca00a",
   "metadata": {},
   "source": [
    "### Rounding digits"
   ]
  },
  {
   "cell_type": "code",
   "execution_count": 72,
   "id": "b6a93d73",
   "metadata": {},
   "outputs": [
    {
     "name": "stdout",
     "output_type": "stream",
     "text": [
      "3\n"
     ]
    }
   ],
   "source": [
    "# print(8/3) returns 2.6666666666666665\n",
    "# Rounding off will give 3\n",
    "print(round(8 / 3))"
   ]
  },
  {
   "cell_type": "code",
   "execution_count": 73,
   "id": "74568d83",
   "metadata": {},
   "outputs": [
    {
     "name": "stdout",
     "output_type": "stream",
     "text": [
      "2.67\n"
     ]
    }
   ],
   "source": [
    "# We can also specify the number of digits to be rounded off\n",
    "# Syntax ---> round(number_to_be_rounded, number_of_digits)\n",
    "print(round(8 / 3, 2))"
   ]
  },
  {
   "cell_type": "markdown",
   "id": "61770da2",
   "metadata": {},
   "source": [
    "### Floor division"
   ]
  },
  {
   "cell_type": "code",
   "execution_count": 76,
   "id": "418b7fbf",
   "metadata": {},
   "outputs": [
    {
     "name": "stdout",
     "output_type": "stream",
     "text": [
      "2\n",
      "<class 'int'>\n"
     ]
    }
   ],
   "source": [
    "# \"//\" is used to get quotient i.e., an integer\n",
    "num = 8 // 3\n",
    "print(num)\n",
    "print(type(num))"
   ]
  },
  {
   "cell_type": "markdown",
   "id": "4bb541d4",
   "metadata": {},
   "source": [
    "## Shorthand Operators"
   ]
  },
  {
   "cell_type": "code",
   "execution_count": 95,
   "id": "fd148eae",
   "metadata": {},
   "outputs": [],
   "source": [
    "score = 100"
   ]
  },
  {
   "cell_type": "code",
   "execution_count": 96,
   "id": "dc28ba09",
   "metadata": {},
   "outputs": [],
   "source": [
    "score +=1"
   ]
  },
  {
   "cell_type": "code",
   "execution_count": 97,
   "id": "2135565a",
   "metadata": {},
   "outputs": [
    {
     "name": "stdout",
     "output_type": "stream",
     "text": [
      "101\n"
     ]
    }
   ],
   "source": [
    "print(score)"
   ]
  },
  {
   "cell_type": "code",
   "execution_count": 98,
   "id": "ace0bacd",
   "metadata": {},
   "outputs": [],
   "source": [
    "score-=1"
   ]
  },
  {
   "cell_type": "code",
   "execution_count": 99,
   "id": "129d8f6a",
   "metadata": {},
   "outputs": [
    {
     "name": "stdout",
     "output_type": "stream",
     "text": [
      "100\n"
     ]
    }
   ],
   "source": [
    "print(score)"
   ]
  },
  {
   "cell_type": "code",
   "execution_count": 100,
   "id": "ccedfd58",
   "metadata": {},
   "outputs": [],
   "source": [
    "score//=6"
   ]
  },
  {
   "cell_type": "code",
   "execution_count": 101,
   "id": "f395b306",
   "metadata": {},
   "outputs": [
    {
     "name": "stdout",
     "output_type": "stream",
     "text": [
      "16\n"
     ]
    }
   ],
   "source": [
    "print(score)"
   ]
  },
  {
   "cell_type": "markdown",
   "id": "24fbd9f2",
   "metadata": {},
   "source": [
    "### !!! NOTE\n",
    "### Using shorthand operators is like assigning a value, for example \"score+=10\" is same as \"score = score + 10\" So do not use them inside print() statement like print(score+=10) because print() function takes values not expressions as arguments. It will result in invalid syntax if you do so."
   ]
  },
  {
   "cell_type": "code",
   "execution_count": 106,
   "id": "5cc43628",
   "metadata": {},
   "outputs": [
    {
     "ename": "SyntaxError",
     "evalue": "invalid syntax (1591979315.py, line 1)",
     "output_type": "error",
     "traceback": [
      "\u001b[0;36m  Input \u001b[0;32mIn [106]\u001b[0;36m\u001b[0m\n\u001b[0;31m    print(score+=10)\u001b[0m\n\u001b[0m               ^\u001b[0m\n\u001b[0;31mSyntaxError\u001b[0m\u001b[0;31m:\u001b[0m invalid syntax\n"
     ]
    }
   ],
   "source": [
    "print(score+=10)"
   ]
  },
  {
   "cell_type": "markdown",
   "id": "776e5ad0",
   "metadata": {},
   "source": [
    "## F-Strings\n",
    "### F-strings provide a way to embed expressions inside string literals, using a minimal syntax\n",
    "### They can be used when we don't want to convert each datatype explicitly"
   ]
  },
  {
   "cell_type": "code",
   "execution_count": 103,
   "id": "79c33f00",
   "metadata": {},
   "outputs": [
    {
     "name": "stdout",
     "output_type": "stream",
     "text": [
      "Hello dean, You have reached level 5.\n",
      "Your score is 100\n",
      "AreYouWinning is True\n"
     ]
    }
   ],
   "source": [
    "# Syntax ---> f\"some string {variable1} some more string {variable2}\"\n",
    "name = \"dean\"\n",
    "score = 100\n",
    "isWinning = True\n",
    "level = 5\n",
    "example_fString = f\"Hello {name}, You have reached level {level}.\\nYour score is {score}\\nAreYouWinning is {isWinning}\"\n",
    "print(example_fString)"
   ]
  },
  {
   "cell_type": "code",
   "execution_count": 105,
   "id": "1e8bc7f8",
   "metadata": {},
   "outputs": [
    {
     "name": "stdout",
     "output_type": "stream",
     "text": [
      "What is your current age?\n",
      "19\n",
      "You have 25915 days, 3692 weeks, and 852 months left.\n"
     ]
    }
   ],
   "source": [
    "# Challenge ---> Life calculator\n",
    "# 🚨 Don't change the code below 👇\n",
    "age = input(\"What is your current age?\\n\")\n",
    "# 🚨 Don't change the code above 👆\n",
    "\n",
    "#Write your code below this line 👇\n",
    "\n",
    "yearsLeft = 90 - int(age)\n",
    "monthsLeft = yearsLeft*12\n",
    "weeksLeft = yearsLeft*52\n",
    "daysLeft = yearsLeft*365\n",
    "print(f\"You have {daysLeft} days, {weeksLeft} weeks, and {monthsLeft} months left.\")"
   ]
  },
  {
   "cell_type": "markdown",
   "id": "ba1331d7",
   "metadata": {},
   "source": [
    "## Project - Tip Calculator"
   ]
  },
  {
   "cell_type": "code",
   "execution_count": 109,
   "id": "f5ce1637",
   "metadata": {},
   "outputs": [
    {
     "name": "stdout",
     "output_type": "stream",
     "text": [
      "Welcome to the tip calculator.\n",
      "What was the total bill?\n",
      "$124.56\n",
      "What percentage tip would you like to give?\n",
      "10, 12, or 15?12\n",
      "How many people to split the bill?\n",
      "7\n",
      "Each person should pay: $19.93\n"
     ]
    }
   ],
   "source": [
    "print(\"Welcome to the tip calculator.\")\n",
    "\n",
    "bill_Amount = input(\"What was the total bill?\\n$\")\n",
    "bill = float(bill_Amount)\n",
    "\n",
    "tip_percentage = input(\"What percentage tip would you like to give?\\n10, 12, or 15?\")\n",
    "tip = int(tip_percentage)\n",
    "\n",
    "number_of_people = input(\"How many people to split the bill?\\n\")\n",
    "num = int(number_of_people)\n",
    "\n",
    "tip_to_give = (tip/100)*bill\n",
    "\n",
    "bill_with_tip = bill + tip_to_give\n",
    "\n",
    "bill_of_each_person = round(bill_with_tip/num, 2)\n",
    "\n",
    "print(f\"Each person should pay: ${bill_of_each_person}\")"
   ]
  }
 ],
 "metadata": {
  "kernelspec": {
   "display_name": "Python 3 (ipykernel)",
   "language": "python",
   "name": "python3"
  },
  "language_info": {
   "codemirror_mode": {
    "name": "ipython",
    "version": 3
   },
   "file_extension": ".py",
   "mimetype": "text/x-python",
   "name": "python",
   "nbconvert_exporter": "python",
   "pygments_lexer": "ipython3",
   "version": "3.9.12"
  }
 },
 "nbformat": 4,
 "nbformat_minor": 5
}
