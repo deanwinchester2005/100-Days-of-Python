{
 "cells": [
  {
   "cell_type": "markdown",
   "id": "f12da160",
   "metadata": {},
   "source": [
    "# Python Pro Bootcamp - Day 08"
   ]
  },
  {
   "cell_type": "code",
   "execution_count": 2,
   "id": "c7434cb0",
   "metadata": {},
   "outputs": [
    {
     "name": "stdout",
     "output_type": "stream",
     "text": [
      "Hello!\n",
      "Good evening,\n",
      "Don't forget to code today\n"
     ]
    }
   ],
   "source": [
    "# Review: \n",
    "# Create a function called greet(). \n",
    "# Write 3 print statements inside the function.\n",
    "# Call the greet() function and run your code.\n",
    "def greet():\n",
    "    print(\"Hello!\")\n",
    "    print(\"Good evening,\")\n",
    "    print(\"Don't forget to code today\")\n",
    "\n",
    "greet()"
   ]
  },
  {
   "cell_type": "code",
   "execution_count": 4,
   "id": "f14c3ad0",
   "metadata": {},
   "outputs": [
    {
     "name": "stdout",
     "output_type": "stream",
     "text": [
      "Hello boys!\n",
      "How are you doing Dean?\n",
      "Dean, Where is moose?\n"
     ]
    }
   ],
   "source": [
    "# Function with input\n",
    "def greet_with_name(name): \n",
    "    print(f\"Hello boys!\")\n",
    "    print(f\"How are you doing {name}?\")\n",
    "    print(f\"{name}, Where is moose?\")\n",
    "\n",
    "greet_with_name(\"Dean\")"
   ]
  },
  {
   "cell_type": "markdown",
   "id": "470c7b66",
   "metadata": {},
   "source": [
    "### Remember that parameter is the name of the data which is given to the function whereas argument is the actual value of that data."
   ]
  },
  {
   "cell_type": "code",
   "execution_count": 5,
   "id": "946b598d",
   "metadata": {},
   "outputs": [
    {
     "name": "stdout",
     "output_type": "stream",
     "text": [
      "Hello boys!\n",
      "How are you doing Castiel?\n",
      "Castiel, Where is moose?\n"
     ]
    }
   ],
   "source": [
    "# Function with input\n",
    "def greet_with_name(name): #Here, \"name\" is the parameter which we use to refer in code block of the function\n",
    "    print(f\"Hello boys!\")\n",
    "    print(f\"How are you doing {name}?\")\n",
    "    print(f\"{name}, Where is moose?\")\n",
    "\n",
    "greet_with_name(\"Castiel\") # Here, Dean is the argument which is passed to the function i.e., name = \"Dean\""
   ]
  },
  {
   "cell_type": "code",
   "execution_count": 6,
   "id": "c29d4857",
   "metadata": {},
   "outputs": [
    {
     "name": "stdout",
     "output_type": "stream",
     "text": [
      "Hello Sam,\n",
      "The weather in Illinois is moist today. Isn't it?\n"
     ]
    }
   ],
   "source": [
    "\n",
    "# Function with more than 1 inputs\n",
    "\n",
    "def greet_with(name, location): # Here, \"name\" and \"location\" are parameters\n",
    "    print(f\"Hello {name},\")\n",
    "    print(f\"The weather in {location} is moist today. Isn't it?\")\n",
    "\n",
    "greet_with(\"Sam\", \"Illinois\") # Here, Values passed are arguments."
   ]
  },
  {
   "cell_type": "markdown",
   "id": "51e5500c",
   "metadata": {},
   "source": [
    "### Positional Arguments"
   ]
  },
  {
   "cell_type": "code",
   "execution_count": 11,
   "id": "6409ce5e",
   "metadata": {},
   "outputs": [
    {
     "name": "stdout",
     "output_type": "stream",
     "text": [
      "1\n"
     ]
    }
   ],
   "source": [
    "def printsum(num1, num2, num3):\n",
    "    print(num1 + num2 - num3)\n",
    "printsum(2, 2, 3)"
   ]
  },
  {
   "cell_type": "markdown",
   "id": "0776d7c7",
   "metadata": {},
   "source": [
    "#### Notice how the output changes when we switch the position of our arguments"
   ]
  },
  {
   "cell_type": "code",
   "execution_count": 12,
   "id": "f38a2818",
   "metadata": {},
   "outputs": [
    {
     "name": "stdout",
     "output_type": "stream",
     "text": [
      "3\n"
     ]
    }
   ],
   "source": [
    "def printsum(num1, num2, num3):\n",
    "    print(num1 + num2 - num3)\n",
    "printsum(3, 2, 2)"
   ]
  },
  {
   "cell_type": "markdown",
   "id": "56c641b5",
   "metadata": {},
   "source": [
    "### Keyword Arguments"
   ]
  },
  {
   "cell_type": "code",
   "execution_count": 13,
   "id": "f194aacf",
   "metadata": {},
   "outputs": [
    {
     "name": "stdout",
     "output_type": "stream",
     "text": [
      "15\n"
     ]
    }
   ],
   "source": [
    "def printsum(a, b, c):\n",
    "    print(a + b - c)\n",
    "printsum(10, 10, 5)"
   ]
  },
  {
   "cell_type": "markdown",
   "id": "3fe54e82",
   "metadata": {},
   "source": [
    "#### Notice how the output changes when we assign values to parameters specifically"
   ]
  },
  {
   "cell_type": "code",
   "execution_count": 15,
   "id": "814bda3a",
   "metadata": {},
   "outputs": [
    {
     "name": "stdout",
     "output_type": "stream",
     "text": [
      "5\n"
     ]
    }
   ],
   "source": [
    "def printsum(a, b, c):\n",
    "    print(a + b - c)\n",
    "printsum(c = 10, b = 10, a = 5)"
   ]
  },
  {
   "cell_type": "code",
   "execution_count": 20,
   "id": "ea204ae3",
   "metadata": {},
   "outputs": [],
   "source": [
    "def greet_with(name, location): # Here, \"name\" and \"location\" are parameters\n",
    "    print(f\"Hello {name},\")\n",
    "    print(f\"The weather in {location} is pretty good today. Isn't it?\")"
   ]
  },
  {
   "cell_type": "markdown",
   "id": "2b686ec9",
   "metadata": {},
   "source": [
    "#### Notice how the output doesn't changes even if we change the position of keyword arguments"
   ]
  },
  {
   "cell_type": "code",
   "execution_count": 21,
   "id": "2632f123",
   "metadata": {},
   "outputs": [
    {
     "name": "stdout",
     "output_type": "stream",
     "text": [
      "Hello Mary,\n",
      "The weather in Fairyland is pretty good today. Isn't it?\n"
     ]
    }
   ],
   "source": [
    "greet_with(name = \"Mary\", location = \"Fairyland\") # Here, Values passed are arguments."
   ]
  },
  {
   "cell_type": "code",
   "execution_count": 22,
   "id": "d7bca8cd",
   "metadata": {},
   "outputs": [
    {
     "name": "stdout",
     "output_type": "stream",
     "text": [
      "Hello Mary,\n",
      "The weather in Fairyland is pretty good today. Isn't it?\n"
     ]
    }
   ],
   "source": [
    "greet_with(location = \"Fairyland\", name = \"Mary\") # Here, Values passed are arguments."
   ]
  },
  {
   "cell_type": "code",
   "execution_count": 32,
   "id": "eea2c1ad",
   "metadata": {},
   "outputs": [
    {
     "name": "stdout",
     "output_type": "stream",
     "text": [
      "Height of wall: 3\n",
      "Width of wall: 9\n",
      "You'll need 6 cans of paint.\n"
     ]
    }
   ],
   "source": [
    "# Challenge - Paint Area calculator\n",
    "#Write your code below this line 👇\n",
    "from math import ceil\n",
    "def paint_calc(height, width, cover):\n",
    "    area = height * width\n",
    "    number_of_cans = ceil(area / cover)\n",
    "    print(f\"You'll need {number_of_cans} cans of paint.\")\n",
    "\n",
    "\n",
    "\n",
    "\n",
    "\n",
    "#Write your code above this line 👆\n",
    "# Define a function called paint_calc() so that the code below works.   \n",
    "\n",
    "# 🚨 Don't change the code below 👇\n",
    "test_h = int(input(\"Height of wall: \"))\n",
    "test_w = int(input(\"Width of wall: \"))\n",
    "coverage = 5\n",
    "paint_calc(height=test_h, width=test_w, cover=coverage)"
   ]
  },
  {
   "cell_type": "markdown",
   "id": "4b4271e6",
   "metadata": {},
   "source": [
    "### Prime number is a number greater than 1 which is only divisible by 1 and itself !"
   ]
  },
  {
   "cell_type": "code",
   "execution_count": 40,
   "id": "396df239",
   "metadata": {},
   "outputs": [
    {
     "name": "stdout",
     "output_type": "stream",
     "text": [
      "Check this number: 97\n",
      "It's a prime number.\n"
     ]
    }
   ],
   "source": [
    "# Challenge - Prime Number Checker\n",
    "#Write your code below this line 👇\n",
    "\n",
    "def prime_checker(number):\n",
    "    is_prime = True\n",
    "    for divider in range(2, 10):\n",
    "        if number == 1:\n",
    "            is_prime = False\n",
    "        elif number % divider == 0 and number != divider:\n",
    "            is_prime = False       \n",
    "    if number < 1:\n",
    "        is_prime = False\n",
    "    if is_prime:\n",
    "        print(\"It's a prime number.\")\n",
    "    else:\n",
    "        print(\"It's not a prime number.\")\n",
    "    \n",
    "#Write your code above this line 👆\n",
    "    \n",
    "#Do NOT change any of the code below👇\n",
    "n = int(input(\"Check this number: \"))\n",
    "prime_checker(number=n)"
   ]
  },
  {
   "cell_type": "code",
   "execution_count": 45,
   "id": "6cff8e2b",
   "metadata": {},
   "outputs": [
    {
     "name": "stdout",
     "output_type": "stream",
     "text": [
      "Check this number: -7\n",
      "It's not a prime number.\n"
     ]
    }
   ],
   "source": [
    "# We can also pass argument as the following code\n",
    "prime_checker(int(input(\"Check this number: \")))"
   ]
  },
  {
   "cell_type": "markdown",
   "id": "16ae9000",
   "metadata": {},
   "source": [
    "# Project - Caeser Cipher"
   ]
  },
  {
   "cell_type": "markdown",
   "id": "294d5d04",
   "metadata": {},
   "source": [
    "### If you are overwhelmed by the code given above, then let's give it a go the easier way"
   ]
  },
  {
   "cell_type": "code",
   "execution_count": 7,
   "id": "79f7dabf",
   "metadata": {},
   "outputs": [
    {
     "name": "stdout",
     "output_type": "stream",
     "text": [
      "Type 'encode' to encrypt, type 'decode' to decrypt:\n",
      "decode\n",
      "Type your message:\n",
      "zyx\n",
      "Type the shift number:\n",
      "3\n",
      "The decoded text is wvu\n",
      "Do you want to continue?\n",
      "Type yes to continue or no to exit:\n",
      "yes\n",
      "Type 'encode' to encrypt, type 'decode' to decrypt:\n",
      "decode\n",
      "Type your message:\n",
      "abc\n",
      "Type the shift number:\n",
      "3\n",
      "The decoded text is xyz\n",
      "Do you want to continue?\n",
      "Type yes to continue or no to exit:\n",
      "no\n"
     ]
    }
   ],
   "source": [
    "alphabet = ['a', 'b', 'c', 'd', 'e', 'f', 'g', 'h', 'i', 'j', 'k', 'l', 'm', 'n', 'o', 'p', 'q', 'r', 's', 't', 'u', 'v', 'w', 'x', 'y', 'z', 'a', 'b', 'c', 'd', 'e', 'f', 'g', 'h', 'i', 'j', 'k', 'l', 'm', 'n', 'o', 'p', 'q', 'r', 's', 't', 'u', 'v', 'w', 'x', 'y', 'z']\n",
    "\n",
    "\n",
    "\n",
    "def encrypt(plain_text, shift_amount):\n",
    "    cipher_text = \"\"\n",
    "    for letter in plain_text:\n",
    "        position = alphabet.index(letter)\n",
    "        new_position = position + shift_amount\n",
    "        cipher_text += alphabet[new_position]\n",
    "    print(f\"The encoded text is {cipher_text}\")\n",
    "\n",
    "#TODO-1: Create a different function called 'decrypt' that takes the 'text' and 'shift' as inputs.\n",
    "def decrypt(plain_text, shift_amount):\n",
    "  #TODO-2: Inside the 'decrypt' function, shift each letter of the 'text' *backwards* in the alphabet by the shift amount and print the decrypted text.  \n",
    "  #e.g. \n",
    "  #cipher_text = \"mjqqt\"\n",
    "  #shift = 5\n",
    "  #plain_text = \"hello\"\n",
    "  #print output: \"The decoded text is hello\"\n",
    "    decrypted_text = \"\"\n",
    "    for letter in plain_text:\n",
    "        position = alphabet.index(letter)\n",
    "        new_position = position - shift_amount\n",
    "        decrypted_text += alphabet[new_position]\n",
    "    print(f\"The decoded text is {decrypted_text}\")\n",
    "\n",
    "\n",
    "#TODO-3: Check if the user wanted to encrypt or decrypt the message by checking the 'direction' variable. Then call the correct function based on that 'drection' variable. You should be able to test the code to encrypt *AND* decrypt a message.\n",
    "while True:\n",
    "    direction = input(\"Type 'encode' to encrypt, type 'decode' to decrypt:\\n\")\n",
    "    if direction == \"encode\":\n",
    "        text = input(\"Type your message:\\n\").lower()\n",
    "        shift = int(input(\"Type the shift number:\\n\"))\n",
    "        encrypt(plain_text = text, shift_amount = shift)\n",
    "        choice = input(\"Type yes to continue or no to exit:\\n\").lower()\n",
    "        if choice == \"yes\":\n",
    "            continue\n",
    "        else:\n",
    "            break\n",
    "    elif direction == \"decode\":\n",
    "        text = input(\"Type your message:\\n\").lower()\n",
    "        shift = int(input(\"Type the shift number:\\n\"))\n",
    "        decrypt(plain_text = text, shift_amount = shift)\n",
    "        choice = input(\"Do you want to continue?\\nType yes to continue or no to exit:\\n\").lower()\n",
    "        if choice == \"yes\":\n",
    "            continue\n",
    "        else:\n",
    "            break\n",
    "    else:\n",
    "        print(\"You exitted.\")\n",
    "        break"
   ]
  },
  {
   "cell_type": "markdown",
   "id": "a603a530",
   "metadata": {},
   "source": [
    "### If you are overwhelmed again by the code given above then try to understand code given below"
   ]
  },
  {
   "cell_type": "code",
   "execution_count": 15,
   "id": "c8a502ea",
   "metadata": {},
   "outputs": [
    {
     "name": "stdout",
     "output_type": "stream",
     "text": [
      "Type 'encode' to encrypt, type 'decode' to decrypt:\n",
      "encode\n",
      "Type your message:\n",
      "Hey Sam! I need you to know this that dad has been on a hunting trip. And he has not came to home for few days.\n",
      "Type the shift number:\n",
      "7\n",
      "Here's the encoded result: olf zht! p ullk fvb av ruvd aopz aoha khk ohz illu vu h obuapun aypw. huk ol ohz uva jhtl av ovtl mvy mld khfz.\n",
      "Type 'yes' if you want to go again. Otherwise type 'no'.\n",
      "yes\n",
      "Type 'encode' to encrypt, type 'decode' to decrypt:\n",
      "decode\n",
      "Type your message:\n",
      "olf zht! p ullk fvb av ruvd aopz aoha khk ohz illu vu h obuapun aypw. huk ol ohz uva jhtl av ovtl mvy mld khfz.\n",
      "Type the shift number:\n",
      "7\n",
      "Here's the decoded result: hey sam! i need you to know this that dad has been on a hunting trip. and he has not came to home for few days.\n",
      "Type 'yes' if you want to go again. Otherwise type 'no'.\n",
      "no\n",
      "Goodbye\n"
     ]
    }
   ],
   "source": [
    "alphabet = ['a', 'b', 'c', 'd', 'e', 'f', 'g', 'h', 'i', 'j', 'k', 'l', 'm', 'n', 'o', 'p', 'q', 'r', 's', 't', 'u', 'v', 'w', 'x', 'y', 'z', 'a', 'b', 'c', 'd', 'e', 'f', 'g', 'h', 'i', 'j', 'k', 'l', 'm', 'n', 'o', 'p', 'q', 'r', 's', 't', 'u', 'v', 'w', 'x', 'y', 'z']\n",
    "\n",
    "def caesar(start_text, shift_amount, cipher_direction):\n",
    "    end_text = \"\"\n",
    "    if cipher_direction == \"decode\":\n",
    "        shift_amount *= -1\n",
    "    for char in start_text:\n",
    "        if char in alphabet:\n",
    "            position = alphabet.index(char)\n",
    "            new_position = position + shift_amount\n",
    "            end_text += alphabet[new_position]\n",
    "        else:\n",
    "            end_text += char\n",
    "    print(f\"Here's the {cipher_direction}d result: {end_text}\")\n",
    "should_end = False\n",
    "while not should_end:\n",
    "    direction = input(\"Type 'encode' to encrypt, type 'decode' to decrypt:\\n\")\n",
    "    text = input(\"Type your message:\\n\").lower()\n",
    "    shift = int(input(\"Type the shift number:\\n\"))\n",
    "    shift %= 26\n",
    "    caesar(start_text=text, shift_amount=shift, cipher_direction=direction)\n",
    "    restart = input(\"Type 'yes' if you want to go again. Otherwise type 'no'.\\n\")\n",
    "    if restart == \"no\":\n",
    "        should_end = True\n",
    "        print(\"Goodbye\")"
   ]
  }
 ],
 "metadata": {
  "kernelspec": {
   "display_name": "Python 3 (ipykernel)",
   "language": "python",
   "name": "python3"
  },
  "language_info": {
   "codemirror_mode": {
    "name": "ipython",
    "version": 3
   },
   "file_extension": ".py",
   "mimetype": "text/x-python",
   "name": "python",
   "nbconvert_exporter": "python",
   "pygments_lexer": "ipython3",
   "version": "3.9.12"
  }
 },
 "nbformat": 4,
 "nbformat_minor": 5
}
